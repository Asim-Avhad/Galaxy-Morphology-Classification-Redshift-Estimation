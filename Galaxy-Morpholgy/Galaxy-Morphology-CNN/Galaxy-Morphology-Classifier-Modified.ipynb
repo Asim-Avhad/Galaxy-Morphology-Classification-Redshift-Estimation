{
 "cells": [
  {
   "cell_type": "code",
   "execution_count": 1,
   "metadata": {},
   "outputs": [],
   "source": [
    "import torch\n",
    "import torch.nn as nn\n",
    "import torch.optim as optim\n",
    "from torch.utils.data import DataLoader, Dataset, random_split\n",
    "from torchvision import transforms, datasets\n",
    "import os\n",
    "from tqdm import tqdm\n",
    "import matplotlib.pyplot as plt\n",
    "from PIL import Image\n",
    "import random\n",
    "import os\n",
    "from torchvision.datasets import ImageFolder\n",
    "import numpy as np"
   ]
  },
  {
   "cell_type": "code",
   "execution_count": 2,
   "metadata": {},
   "outputs": [
    {
     "name": "stdout",
     "output_type": "stream",
     "text": [
      "Using device: cuda\n"
     ]
    }
   ],
   "source": [
    "torch.manual_seed(42)\n",
    "device = torch.device(\"cuda\" if torch.cuda.is_available() else \"cpu\")\n",
    "print(f\"Using device: {device}\")"
   ]
  },
  {
   "cell_type": "code",
   "execution_count": 3,
   "metadata": {},
   "outputs": [
    {
     "name": "stdout",
     "output_type": "stream",
     "text": [
      "True\n",
      "12.6\n"
     ]
    }
   ],
   "source": [
    "# To check if GPU is available\n",
    "print(torch.cuda.is_available())\n",
    "# To check the CUDA version\n",
    "print(torch.version.cuda)"
   ]
  },
  {
   "cell_type": "code",
   "execution_count": 4,
   "metadata": {},
   "outputs": [],
   "source": [
    "import os\n",
    "from PIL import Image\n",
    "from torch.utils.data import Dataset\n",
    "\n",
    "class GalaxyDataset(Dataset):\n",
    "    def __init__(self, root_dir, transform=None):\n",
    "        self.root_dir = root_dir\n",
    "        self.transform = transform\n",
    "        self.image_files = [f for f in os.listdir(root_dir) if f.endswith(('.png', '.jpg', '.jpeg'))]\n",
    "\n",
    "    def __len__(self):\n",
    "        return len(self.image_files)\n",
    "\n",
    "    def __getitem__(self, idx):\n",
    "        img_name = self.image_files[idx]\n",
    "        img_path = os.path.join(self.root_dir, img_name)\n",
    "        \n",
    "        # Extract the class label correctly (get the part before '.png' or any extension)\n",
    "        label_str = img_name.split('_')[-1].split('.')[0]\n",
    "        try:\n",
    "            label = int(label_str)\n",
    "        except ValueError:\n",
    "            print(f\"Error converting label: {label_str}\")\n",
    "            raise\n",
    "        \n",
    "        # Load image\n",
    "        image = Image.open(img_path).convert(\"RGB\")\n",
    "        \n",
    "        # Apply transformations\n",
    "        if self.transform:\n",
    "            image = self.transform(image)\n",
    "        \n",
    "        return image, label\n",
    "\n",
    "# **Correcting the path to dataset**\n",
    "data_dir = os.path.expanduser(\"~/Desktop/BE Project/Decals_data_images\")  # Ensure correct dataset pat"
   ]
  },
  {
   "cell_type": "code",
   "execution_count": 5,
   "metadata": {},
   "outputs": [],
   "source": [
    "transform = transforms.Compose([\n",
    "    transforms.Resize((128, 128)),\n",
    "    transforms.ToTensor(),\n",
    "    transforms.Normalize(mean=[0.485, 0.456, 0.406], std=[0.229, 0.224, 0.225]),\n",
    "    # Add data augmentation for better generalization\n",
    "    transforms.RandomHorizontalFlip(),\n",
    "    transforms.RandomRotation(10),\n",
    "    transforms.ColorJitter(brightness=0.2, contrast=0.2)\n",
    "])"
   ]
  },
  {
   "cell_type": "code",
   "execution_count": 6,
   "metadata": {},
   "outputs": [],
   "source": [
    "dataset = GalaxyDataset(root_dir=data_dir, transform=transform)\n",
    "\n",
    "train_size = int(0.8 * len(dataset))\n",
    "test_size = len(dataset) - train_size\n",
    "train_dataset, test_dataset = torch.utils.data.random_split(dataset, [train_size, test_size])\n",
    "\n",
    "train_loader = DataLoader(train_dataset, batch_size=32, shuffle=True)\n",
    "test_loader = DataLoader(test_dataset, batch_size=32, shuffle=False)"
   ]
  },
  {
   "cell_type": "code",
   "execution_count": 7,
   "metadata": {},
   "outputs": [],
   "source": [
    "import torch\n",
    "import torch.nn as nn\n",
    "from torch.nn import TransformerEncoder, TransformerEncoderLayer\n",
    "\n",
    "class GalaxyCNN(nn.Module):\n",
    "    def __init__(self, num_classes):\n",
    "        super(GalaxyCNN, self).__init__()\n",
    "\n",
    "        self.features = nn.Sequential(\n",
    "            nn.Conv2d(3, 64, kernel_size=3, padding=1),\n",
    "            nn.BatchNorm2d(64),\n",
    "            nn.ReLU(inplace=True),\n",
    "            nn.MaxPool2d(kernel_size=2, stride=2),\n",
    "\n",
    "            nn.Conv2d(64, 128, kernel_size=3, padding=1),\n",
    "            nn.BatchNorm2d(128),\n",
    "            nn.ReLU(inplace=True),\n",
    "            nn.MaxPool2d(kernel_size=2, stride=2),\n",
    "\n",
    "            nn.Conv2d(128, 256, kernel_size=3, padding=1),\n",
    "            nn.BatchNorm2d(256),\n",
    "            nn.ReLU(inplace=True),\n",
    "            nn.MaxPool2d(kernel_size=2, stride=2),\n",
    "\n",
    "            nn.Conv2d(256, 512, kernel_size=3, padding=1),\n",
    "            nn.BatchNorm2d(512),\n",
    "            nn.ReLU(inplace=True),\n",
    "            nn.MaxPool2d(kernel_size=2, stride=2)\n",
    "        )\n",
    "\n",
    "        # Vision Transformer\n",
    "        self.transformer_layer = TransformerEncoderLayer(d_model=512, nhead=8)\n",
    "        self.transformer_encoder = TransformerEncoder(self.transformer_layer, num_layers=6)\n",
    "        \n",
    "        self.classifier = nn.Sequential(\n",
    "            nn.Dropout(0.5),\n",
    "            nn.Linear(512 * 8 * 8, 4096),\n",
    "            nn.ReLU(inplace=True),\n",
    "            nn.Dropout(0.5),\n",
    "            nn.Linear(4096, 1024),\n",
    "            nn.ReLU(inplace=True),\n",
    "            nn.Linear(1024, num_classes)\n",
    "        )\n",
    "\n",
    "    def forward(self, x):\n",
    "        x = self.features(x)\n",
    "        x = torch.flatten(x, 1)\n",
    "\n",
    "        # Transforming the feature map to the appropriate input shape for Transformer\n",
    "        x = x.view(x.size(0), -1, 512)  # [batch_size, seq_length, d_model]\n",
    "        x = self.transformer_encoder(x)\n",
    "        x = x.view(x.size(0), -1)  # Flatten the Transformer output\n",
    "        \n",
    "        x = self.classifier(x)\n",
    "        return x\n"
   ]
  },
  {
   "cell_type": "code",
   "execution_count": 8,
   "metadata": {},
   "outputs": [],
   "source": [
    "class EarlyStopping:\n",
    "    def __init__(self, patience=5, verbose=False, delta=0.001):\n",
    "        self.patience = patience\n",
    "        self.verbose = verbose\n",
    "        self.counter = 0\n",
    "        self.best_score = None\n",
    "        self.early_stop = False\n",
    "        self.delta = delta\n",
    "        self.best_loss = None\n",
    "    \n",
    "    def __call__(self, val_loss, model):\n",
    "        score = -val_loss\n",
    "        \n",
    "        if self.best_score is None:\n",
    "            self.best_score = score\n",
    "            self.best_loss = val_loss\n",
    "        elif score < self.best_score + self.delta:\n",
    "            self.counter += 1\n",
    "            if self.verbose:\n",
    "                print(f'EarlyStopping counter: {self.counter} out of {self.patience}')\n",
    "            if self.counter >= self.patience:\n",
    "                self.early_stop = True\n",
    "        else:\n",
    "            self.best_score = score\n",
    "            self.best_loss = val_loss\n",
    "            self.counter = 0"
   ]
  },
  {
   "cell_type": "code",
   "execution_count": 9,
   "metadata": {},
   "outputs": [],
   "source": [
    "def evaluate_model(model, loader):\n",
    "    model.eval()\n",
    "    correct = 0\n",
    "    total = 0\n",
    "    val_loss = 0.0\n",
    "    criterion = torch.nn.CrossEntropyLoss()\n",
    "    \n",
    "    with torch.no_grad():\n",
    "        for inputs, labels in tqdm(loader, desc='Evaluating'):\n",
    "            inputs, labels = inputs.to(device), labels.to(device)\n",
    "            outputs = model(inputs)\n",
    "            loss = criterion(outputs, labels)\n",
    "            val_loss += loss.item()\n",
    "            _, predicted = outputs.max(1)\n",
    "            total += labels.size(0)\n",
    "            correct += predicted.eq(labels).sum().item()\n",
    "    \n",
    "    accuracy = 100. * correct / total\n",
    "    avg_loss = val_loss / len(loader)\n",
    "    print(f'Accuracy: {accuracy:.2f}%')\n",
    "    return avg_loss  # Return loss for scheduler and early stopping\n",
    "\n",
    "def train_model(model, train_loader, val_loader, criterion, optimizer, scheduler, early_stopping, num_epochs):\n",
    "    model.train()\n",
    "    warmup_epochs = 2\n",
    "    best_val_loss = float('inf')\n",
    "    history = {'train_loss': [], 'train_acc': [], 'val_loss': [], 'val_acc': []}\n",
    "    \n",
    "    for epoch in range(num_epochs):\n",
    "        # Learning rate warmup\n",
    "        if epoch < warmup_epochs:\n",
    "            for param_group in optimizer.param_groups:\n",
    "                param_group['lr'] = 0.0001 * (epoch + 1) / warmup_epochs\n",
    "        \n",
    "        running_loss = 0.0\n",
    "        correct = 0\n",
    "        total = 0\n",
    "        \n",
    "        # Training phase\n",
    "        model.train()\n",
    "        progress_bar = tqdm(train_loader, desc=f'Epoch {epoch+1}/{num_epochs}')\n",
    "        \n",
    "        for inputs, labels in progress_bar:\n",
    "            inputs, labels = inputs.to(device), labels.to(device)\n",
    "            \n",
    "            optimizer.zero_grad()\n",
    "            outputs = model(inputs)\n",
    "            loss = criterion(outputs, labels)\n",
    "            loss.backward()\n",
    "            \n",
    "            # Gradient clipping\n",
    "            torch.nn.utils.clip_grad_norm_(model.parameters(), max_norm=1.0)\n",
    "            \n",
    "            optimizer.step()\n",
    "            \n",
    "            running_loss += loss.item()\n",
    "            _, predicted = outputs.max(1)\n",
    "            total += labels.size(0)\n",
    "            correct += predicted.eq(labels).sum().item()\n",
    "            \n",
    "            progress_bar.set_postfix({\n",
    "                'loss': running_loss/len(train_loader),\n",
    "                'accuracy': 100.*correct/total,\n",
    "                'lr': optimizer.param_groups[0]['lr']\n",
    "            })\n",
    "        \n",
    "        # Calculate training metrics\n",
    "        train_loss = running_loss/len(train_loader)\n",
    "        train_acc = 100.*correct/total\n",
    "        \n",
    "        # Validation phase\n",
    "        val_loss = evaluate_model(model, val_loader)  # Using our evaluate_model function\n",
    "        \n",
    "        # Save metrics\n",
    "        history['train_loss'].append(train_loss)\n",
    "        history['train_acc'].append(train_acc)\n",
    "        history['val_loss'].append(val_loss)\n",
    "        \n",
    "        print(f'\\nEpoch {epoch+1}/{num_epochs}:')\n",
    "        print(f'Train Loss: {train_loss:.4f} | Train Acc: {train_acc:.2f}%')\n",
    "        print(f'Val Loss: {val_loss:.4f}')\n",
    "        \n",
    "        # Learning rate scheduling\n",
    "        scheduler.step(val_loss)\n",
    "        \n",
    "        # Early stopping check\n",
    "        early_stopping(val_loss, model)\n",
    "        \n",
    "        # Save best model\n",
    "        if val_loss < best_val_loss:\n",
    "            best_val_loss = val_loss\n",
    "            torch.save(model.state_dict(), \"best_model.pth\")\n",
    "        \n",
    "        if early_stopping.early_stop:\n",
    "            print(\"Early stopping triggered\")\n",
    "            break\n",
    "    \n",
    "    return history"
   ]
  },
  {
   "cell_type": "code",
   "execution_count": 10,
   "metadata": {},
   "outputs": [
    {
     "name": "stderr",
     "output_type": "stream",
     "text": [
      "c:\\Users\\Aseem\\AppData\\Local\\Programs\\Python\\Python312\\Lib\\site-packages\\torch\\nn\\modules\\transformer.py:385: UserWarning: enable_nested_tensor is True, but self.use_nested_tensor is False because encoder_layer.self_attn.batch_first was not True(use batch_first for better inference performance)\n",
      "  warnings.warn(\n",
      "c:\\Users\\Aseem\\AppData\\Local\\Programs\\Python\\Python312\\Lib\\site-packages\\torch\\optim\\lr_scheduler.py:62: UserWarning: The verbose parameter is deprecated. Please use get_last_lr() to access the learning rate.\n",
      "  warnings.warn(\n",
      "Epoch 1/20: 100%|██████████| 355/355 [01:56<00:00,  3.05it/s, loss=2.15, accuracy=18.9, lr=5e-5] \n",
      "Evaluating: 100%|██████████| 89/89 [00:21<00:00,  4.22it/s]\n"
     ]
    },
    {
     "name": "stdout",
     "output_type": "stream",
     "text": [
      "Accuracy: 31.22%\n",
      "\n",
      "Epoch 1/20:\n",
      "Train Loss: 2.1500 | Train Acc: 18.87%\n",
      "Val Loss: 1.8378\n"
     ]
    },
    {
     "name": "stderr",
     "output_type": "stream",
     "text": [
      "Epoch 2/20: 100%|██████████| 355/355 [01:39<00:00,  3.56it/s, loss=1.6, accuracy=42.1, lr=0.0001]  \n",
      "Evaluating: 100%|██████████| 89/89 [00:17<00:00,  5.10it/s]\n"
     ]
    },
    {
     "name": "stdout",
     "output_type": "stream",
     "text": [
      "Accuracy: 49.33%\n",
      "\n",
      "Epoch 2/20:\n",
      "Train Loss: 1.5960 | Train Acc: 42.08%\n",
      "Val Loss: 1.4179\n"
     ]
    },
    {
     "name": "stderr",
     "output_type": "stream",
     "text": [
      "Epoch 3/20: 100%|██████████| 355/355 [01:39<00:00,  3.55it/s, loss=1.33, accuracy=52.9, lr=0.0001] \n",
      "Evaluating: 100%|██████████| 89/89 [00:17<00:00,  5.18it/s]\n"
     ]
    },
    {
     "name": "stdout",
     "output_type": "stream",
     "text": [
      "Accuracy: 53.03%\n",
      "\n",
      "Epoch 3/20:\n",
      "Train Loss: 1.3304 | Train Acc: 52.88%\n",
      "Val Loss: 1.2819\n"
     ]
    },
    {
     "name": "stderr",
     "output_type": "stream",
     "text": [
      "Epoch 4/20: 100%|██████████| 355/355 [02:07<00:00,  2.78it/s, loss=1.2, accuracy=56.6, lr=0.0001]  \n",
      "Evaluating: 100%|██████████| 89/89 [00:23<00:00,  3.79it/s]\n"
     ]
    },
    {
     "name": "stdout",
     "output_type": "stream",
     "text": [
      "Accuracy: 56.10%\n",
      "\n",
      "Epoch 4/20:\n",
      "Train Loss: 1.2036 | Train Acc: 56.63%\n",
      "Val Loss: 1.1995\n"
     ]
    },
    {
     "name": "stderr",
     "output_type": "stream",
     "text": [
      "Epoch 5/20: 100%|██████████| 355/355 [02:03<00:00,  2.87it/s, loss=1.11, accuracy=61, lr=0.0001]   \n",
      "Evaluating: 100%|██████████| 89/89 [00:23<00:00,  3.82it/s]\n"
     ]
    },
    {
     "name": "stdout",
     "output_type": "stream",
     "text": [
      "Accuracy: 58.63%\n",
      "\n",
      "Epoch 5/20:\n",
      "Train Loss: 1.1068 | Train Acc: 60.99%\n",
      "Val Loss: 1.1644\n"
     ]
    },
    {
     "name": "stderr",
     "output_type": "stream",
     "text": [
      "Epoch 6/20: 100%|██████████| 355/355 [02:05<00:00,  2.82it/s, loss=1.05, accuracy=62.8, lr=0.0001] \n",
      "Evaluating: 100%|██████████| 89/89 [00:24<00:00,  3.63it/s]\n"
     ]
    },
    {
     "name": "stdout",
     "output_type": "stream",
     "text": [
      "Accuracy: 62.19%\n",
      "\n",
      "Epoch 6/20:\n",
      "Train Loss: 1.0520 | Train Acc: 62.76%\n",
      "Val Loss: 1.0890\n"
     ]
    },
    {
     "name": "stderr",
     "output_type": "stream",
     "text": [
      "Epoch 7/20: 100%|██████████| 355/355 [01:57<00:00,  3.03it/s, loss=1.01, accuracy=63.7, lr=0.0001] \n",
      "Evaluating: 100%|██████████| 89/89 [00:17<00:00,  5.16it/s]\n"
     ]
    },
    {
     "name": "stdout",
     "output_type": "stream",
     "text": [
      "Accuracy: 63.57%\n",
      "\n",
      "Epoch 7/20:\n",
      "Train Loss: 1.0142 | Train Acc: 63.67%\n",
      "Val Loss: 1.0165\n"
     ]
    },
    {
     "name": "stderr",
     "output_type": "stream",
     "text": [
      "Epoch 8/20: 100%|██████████| 355/355 [01:39<00:00,  3.55it/s, loss=0.962, accuracy=65.4, lr=0.0001]\n",
      "Evaluating: 100%|██████████| 89/89 [00:17<00:00,  5.11it/s]\n"
     ]
    },
    {
     "name": "stdout",
     "output_type": "stream",
     "text": [
      "Accuracy: 63.99%\n",
      "\n",
      "Epoch 8/20:\n",
      "Train Loss: 0.9622 | Train Acc: 65.37%\n",
      "Val Loss: 1.0237\n",
      "EarlyStopping counter: 1 out of 15\n"
     ]
    },
    {
     "name": "stderr",
     "output_type": "stream",
     "text": [
      "Epoch 9/20: 100%|██████████| 355/355 [01:41<00:00,  3.50it/s, loss=0.927, accuracy=67.1, lr=0.0001]\n",
      "Evaluating: 100%|██████████| 89/89 [00:17<00:00,  5.19it/s]\n"
     ]
    },
    {
     "name": "stdout",
     "output_type": "stream",
     "text": [
      "Accuracy: 63.46%\n",
      "\n",
      "Epoch 9/20:\n",
      "Train Loss: 0.9267 | Train Acc: 67.06%\n",
      "Val Loss: 1.0273\n",
      "EarlyStopping counter: 2 out of 15\n"
     ]
    },
    {
     "name": "stderr",
     "output_type": "stream",
     "text": [
      "Epoch 10/20: 100%|██████████| 355/355 [01:39<00:00,  3.56it/s, loss=0.894, accuracy=68.4, lr=0.0001]\n",
      "Evaluating: 100%|██████████| 89/89 [00:17<00:00,  5.15it/s]\n"
     ]
    },
    {
     "name": "stdout",
     "output_type": "stream",
     "text": [
      "Accuracy: 65.68%\n",
      "\n",
      "Epoch 10/20:\n",
      "Train Loss: 0.8943 | Train Acc: 68.41%\n",
      "Val Loss: 0.9778\n"
     ]
    },
    {
     "name": "stderr",
     "output_type": "stream",
     "text": [
      "Epoch 11/20: 100%|██████████| 355/355 [01:39<00:00,  3.55it/s, loss=0.864, accuracy=69.4, lr=0.0001]\n",
      "Evaluating: 100%|██████████| 89/89 [00:17<00:00,  5.11it/s]\n"
     ]
    },
    {
     "name": "stdout",
     "output_type": "stream",
     "text": [
      "Accuracy: 64.52%\n",
      "\n",
      "Epoch 11/20:\n",
      "Train Loss: 0.8643 | Train Acc: 69.38%\n",
      "Val Loss: 0.9574\n"
     ]
    },
    {
     "name": "stderr",
     "output_type": "stream",
     "text": [
      "Epoch 12/20: 100%|██████████| 355/355 [01:40<00:00,  3.52it/s, loss=0.84, accuracy=69.8, lr=0.0001] \n",
      "Evaluating: 100%|██████████| 89/89 [00:17<00:00,  5.13it/s]\n"
     ]
    },
    {
     "name": "stdout",
     "output_type": "stream",
     "text": [
      "Accuracy: 64.24%\n",
      "\n",
      "Epoch 12/20:\n",
      "Train Loss: 0.8395 | Train Acc: 69.78%\n",
      "Val Loss: 1.0132\n",
      "EarlyStopping counter: 1 out of 15\n"
     ]
    },
    {
     "name": "stderr",
     "output_type": "stream",
     "text": [
      "Epoch 13/20: 100%|██████████| 355/355 [01:39<00:00,  3.55it/s, loss=0.815, accuracy=71.1, lr=0.0001]\n",
      "Evaluating: 100%|██████████| 89/89 [00:17<00:00,  5.13it/s]\n"
     ]
    },
    {
     "name": "stdout",
     "output_type": "stream",
     "text": [
      "Accuracy: 66.03%\n",
      "\n",
      "Epoch 13/20:\n",
      "Train Loss: 0.8150 | Train Acc: 71.09%\n",
      "Val Loss: 0.9690\n",
      "EarlyStopping counter: 2 out of 15\n"
     ]
    },
    {
     "name": "stderr",
     "output_type": "stream",
     "text": [
      "Epoch 14/20: 100%|██████████| 355/355 [01:40<00:00,  3.55it/s, loss=0.796, accuracy=71.7, lr=0.0001]\n",
      "Evaluating: 100%|██████████| 89/89 [00:17<00:00,  5.16it/s]\n"
     ]
    },
    {
     "name": "stdout",
     "output_type": "stream",
     "text": [
      "Accuracy: 67.16%\n",
      "\n",
      "Epoch 14/20:\n",
      "Train Loss: 0.7965 | Train Acc: 71.66%\n",
      "Val Loss: 0.9582\n",
      "EarlyStopping counter: 3 out of 15\n"
     ]
    },
    {
     "name": "stderr",
     "output_type": "stream",
     "text": [
      "Epoch 15/20: 100%|██████████| 355/355 [01:40<00:00,  3.54it/s, loss=0.779, accuracy=72.1, lr=0.0001]\n",
      "Evaluating: 100%|██████████| 89/89 [00:17<00:00,  5.15it/s]\n"
     ]
    },
    {
     "name": "stdout",
     "output_type": "stream",
     "text": [
      "Accuracy: 66.84%\n",
      "\n",
      "Epoch 15/20:\n",
      "Train Loss: 0.7790 | Train Acc: 72.08%\n",
      "Val Loss: 0.9535\n"
     ]
    },
    {
     "name": "stderr",
     "output_type": "stream",
     "text": [
      "Epoch 16/20: 100%|██████████| 355/355 [01:39<00:00,  3.55it/s, loss=0.746, accuracy=73, lr=0.0001]  \n",
      "Evaluating: 100%|██████████| 89/89 [00:17<00:00,  5.09it/s]\n"
     ]
    },
    {
     "name": "stdout",
     "output_type": "stream",
     "text": [
      "Accuracy: 66.63%\n",
      "\n",
      "Epoch 16/20:\n",
      "Train Loss: 0.7456 | Train Acc: 73.03%\n",
      "Val Loss: 0.9790\n",
      "EarlyStopping counter: 1 out of 15\n"
     ]
    },
    {
     "name": "stderr",
     "output_type": "stream",
     "text": [
      "Epoch 17/20: 100%|██████████| 355/355 [01:42<00:00,  3.47it/s, loss=0.732, accuracy=73.6, lr=0.0001]\n",
      "Evaluating: 100%|██████████| 89/89 [00:22<00:00,  3.99it/s]\n"
     ]
    },
    {
     "name": "stdout",
     "output_type": "stream",
     "text": [
      "Accuracy: 67.51%\n",
      "\n",
      "Epoch 17/20:\n",
      "Train Loss: 0.7319 | Train Acc: 73.62%\n",
      "Val Loss: 0.9591\n",
      "EarlyStopping counter: 2 out of 15\n"
     ]
    },
    {
     "name": "stderr",
     "output_type": "stream",
     "text": [
      "Epoch 18/20: 100%|██████████| 355/355 [01:56<00:00,  3.05it/s, loss=0.712, accuracy=74.6, lr=0.0001]\n",
      "Evaluating: 100%|██████████| 89/89 [00:24<00:00,  3.62it/s]\n"
     ]
    },
    {
     "name": "stdout",
     "output_type": "stream",
     "text": [
      "Accuracy: 68.60%\n",
      "\n",
      "Epoch 18/20:\n",
      "Train Loss: 0.7116 | Train Acc: 74.60%\n",
      "Val Loss: 0.9169\n"
     ]
    },
    {
     "name": "stderr",
     "output_type": "stream",
     "text": [
      "Epoch 19/20: 100%|██████████| 355/355 [02:02<00:00,  2.91it/s, loss=0.697, accuracy=74.8, lr=0.0001]\n",
      "Evaluating: 100%|██████████| 89/89 [00:24<00:00,  3.66it/s]\n"
     ]
    },
    {
     "name": "stdout",
     "output_type": "stream",
     "text": [
      "Accuracy: 67.34%\n",
      "\n",
      "Epoch 19/20:\n",
      "Train Loss: 0.6969 | Train Acc: 74.77%\n",
      "Val Loss: 0.9704\n",
      "EarlyStopping counter: 1 out of 15\n"
     ]
    },
    {
     "name": "stderr",
     "output_type": "stream",
     "text": [
      "Epoch 20/20: 100%|██████████| 355/355 [01:49<00:00,  3.25it/s, loss=0.682, accuracy=75.8, lr=0.0001]\n",
      "Evaluating: 100%|██████████| 89/89 [00:18<00:00,  4.74it/s]\n"
     ]
    },
    {
     "name": "stdout",
     "output_type": "stream",
     "text": [
      "Accuracy: 68.32%\n",
      "\n",
      "Epoch 20/20:\n",
      "Train Loss: 0.6822 | Train Acc: 75.81%\n",
      "Val Loss: 0.9454\n",
      "EarlyStopping counter: 2 out of 15\n",
      "Best model loaded successfully!\n"
     ]
    },
    {
     "name": "stderr",
     "output_type": "stream",
     "text": [
      "Evaluating: 100%|██████████| 111/111 [00:26<00:00,  4.25it/s]"
     ]
    },
    {
     "name": "stdout",
     "output_type": "stream",
     "text": [
      "Accuracy: 68.52%\n"
     ]
    },
    {
     "name": "stderr",
     "output_type": "stream",
     "text": [
      "\n"
     ]
    }
   ],
   "source": [
    "train_size = int(0.8 * len(train_dataset))\n",
    "val_size = len(train_dataset) - train_size\n",
    "train_subset, val_subset = random_split(train_dataset, [train_size, val_size])\n",
    "\n",
    "train_loader = DataLoader(train_subset, batch_size=32, shuffle=True)\n",
    "val_loader = DataLoader(val_subset, batch_size=32, shuffle=False)\n",
    "\n",
    "device = torch.device(\"cuda\" if torch.cuda.is_available() else \"cpu\")\n",
    "model = GalaxyCNN(num_classes=10).to(device)\n",
    "\n",
    "criterion = torch.nn.CrossEntropyLoss()\n",
    "optimizer = optim.Adam(\n",
    "    model.parameters(),\n",
    "    lr=0.0001,\n",
    "    weight_decay=1e-5\n",
    ")\n",
    "\n",
    "scheduler = optim.lr_scheduler.ReduceLROnPlateau(\n",
    "    optimizer,\n",
    "    mode='min',\n",
    "    factor=0.1,\n",
    "    patience=7,\n",
    "    verbose=True,\n",
    "    min_lr=1e-6\n",
    ")\n",
    "\n",
    "early_stopping = EarlyStopping(patience=15, verbose=True, delta=0.001)\n",
    "num_epochs = 20\n",
    "\n",
    "# Train and evaluate\n",
    "history = train_model(model, train_loader, val_loader, criterion, optimizer, scheduler, early_stopping, num_epochs)\n",
    "\n",
    "# Load best model and perform final evaluation\n",
    "model.load_state_dict(torch.load(\"best_model.pth\"))\n",
    "print(\"Best model loaded successfully!\")\n",
    "final_accuracy = evaluate_model(model, test_loader)"
   ]
  },
  {
   "cell_type": "code",
   "execution_count": 11,
   "metadata": {},
   "outputs": [
    {
     "name": "stdout",
     "output_type": "stream",
     "text": [
      "{'train_loss': [2.1500469704748877, 1.5959616889416333, 1.330414626967739, 1.20361953503649, 1.1068328276486463, 1.0519519023492303, 1.0142328949881272, 0.9621709949533704, 0.9266717124153191, 0.894289328850491, 0.8643431898573755, 0.839531848632114, 0.8150002596244006, 0.7964786865341831, 0.7789937244334691, 0.7456064344291956, 0.7319456874484748, 0.711609153092747, 0.6968729493483691, 0.6821759554701792], 'train_acc': [18.87224669603524, 42.07929515418502, 52.881057268722465, 56.63436123348018, 60.986784140969164, 62.757709251101325, 63.67400881057269, 65.37444933920705, 67.05726872246696, 68.40528634361233, 69.38325991189427, 69.77973568281938, 71.09251101321586, 71.65638766519824, 72.07929515418502, 73.03083700440529, 73.62114537444934, 74.59911894273128, 74.76651982378854, 75.80616740088105], 'val_loss': [1.8378031334180511, 1.4179012594598064, 1.2819075892480571, 1.199539822808812, 1.1643846450227031, 1.0889557278558109, 1.016457413689474, 1.023653513260102, 1.0273154672611966, 0.9778484775778953, 0.9573597867837113, 1.0131755230132113, 0.9689949610260096, 0.9581941634081723, 0.953496326891224, 0.9790088554446617, 0.9590727325235859, 0.916890756467755, 0.9703536468945192, 0.9453717570626334], 'val_acc': []}\n"
     ]
    }
   ],
   "source": [
    "# Print the structure of the history object\n",
    "print(history)\n"
   ]
  },
  {
   "cell_type": "code",
   "execution_count": 13,
   "metadata": {},
   "outputs": [
    {
     "name": "stderr",
     "output_type": "stream",
     "text": [
      "Testing: 100%|██████████| 111/111 [00:23<00:00,  4.72it/s]"
     ]
    },
    {
     "name": "stdout",
     "output_type": "stream",
     "text": [
      "Precision: 0.6758\n",
      "Recall: 0.6860\n",
      "Confusion Matrix:\n",
      "[[ 19  10  20  22   7  14  15  77   7   2]\n",
      " [  4 263  17   5   2   9   4  21   4   9]\n",
      " [  0   8 496   0   0   2  30   7   0   0]\n",
      " [  5  12   6 350   1  11   7  18   0   4]\n",
      " [  0   2   0  11  47   3   0   2   1   5]\n",
      " [  1  11  14   6   5 198  94  82   4   5]\n",
      " [  1  10  13   6   2  33 209  65   4   2]\n",
      " [ 13  14  14  34   7  84  80 293  11   9]\n",
      " [  4   7   1   0   4   0   2   2 243  26]\n",
      " [  1  10   1  18   7   5   1   5  12 316]]\n"
     ]
    },
    {
     "name": "stderr",
     "output_type": "stream",
     "text": [
      "\n"
     ]
    },
    {
     "data": {
      "image/png": "[encoded data removed]",
      "text/plain": [
       "<Figure size 1000x800 with 2 Axes>"
      ]
     },
     "metadata": {},
     "output_type": "display_data"
    },
    {
     "data": {
      "image/png": "[encoded data removed]",
      "text/plain": [
       "<Figure size 1800x500 with 3 Axes>"
      ]
     },
     "metadata": {},
     "output_type": "display_data"
    }
   ],
   "source": [
    "import torch\n",
    "import numpy as np\n",
    "from sklearn.metrics import precision_score, recall_score, confusion_matrix\n",
    "import matplotlib.pyplot as plt\n",
    "import seaborn as sns\n",
    "\n",
    "device = torch.device('cuda' if torch.cuda.is_available() else 'cpu')\n",
    "\n",
    "# Evaluate model on the test set\n",
    "model.eval()\n",
    "all_labels = []\n",
    "all_preds = []\n",
    "\n",
    "with torch.no_grad():\n",
    "    for inputs, labels in tqdm(test_loader, desc='Testing'):\n",
    "        inputs, labels = inputs.to(device), labels.to(device)\n",
    "        outputs = model(inputs)\n",
    "        _, preds = torch.max(outputs, 1)\n",
    "\n",
    "        all_labels.extend(labels.cpu().numpy())\n",
    "        all_preds.extend(preds.cpu().numpy())\n",
    "\n",
    "# Calculate precision, recall, and confusion matrix\n",
    "precision = precision_score(all_labels, all_preds, average='weighted')\n",
    "recall = recall_score(all_labels, all_preds, average='weighted')\n",
    "conf_matrix = confusion_matrix(all_labels, all_preds)\n",
    "\n",
    "print(f'Precision: {precision:.4f}')\n",
    "print(f'Recall: {recall:.4f}')\n",
    "print('Confusion Matrix:')\n",
    "print(conf_matrix)\n",
    "\n",
    "# Plot confusion matrix\n",
    "def plot_confusion_matrix(cm, class_names):\n",
    "    plt.figure(figsize=(10, 8))\n",
    "    sns.heatmap(cm, annot=True, fmt='d', cmap='Blues', xticklabels=class_names, yticklabels=class_names)\n",
    "    plt.ylabel('Actual')\n",
    "    plt.xlabel('Predicted')\n",
    "    plt.title('Confusion Matrix')\n",
    "    plt.show()\n",
    "\n",
    "# Auto-detect number of classes (handles non-sequential labels)\n",
    "unique_labels = sorted(set(all_labels))  # Get sorted unique labels\n",
    "class_names = [f'Class {label}' for label in unique_labels]  # Adjust dynamically\n",
    "\n",
    "# Call the plotting function\n",
    "plot_confusion_matrix(conf_matrix, class_names)\n",
    "\n",
    "# Ensure val_acc exists in history\n",
    "if 'val_acc' not in history:\n",
    "    history['val_acc'] = []  # Initialize empty list\n",
    "\n",
    "# Update the history dictionary with the validation accuracy values from the log\n",
    "history['val_acc'] = [\n",
    "    31.22,  # Epoch 1\n",
    "    49.33,  # Epoch 2\n",
    "    53.03,  # Epoch 3\n",
    "    56.10,  # Epoch 4\n",
    "    58.63,  # Epoch 5\n",
    "    62.19,  # Epoch 6\n",
    "    63.57,  # Epoch 7\n",
    "    63.99,  # Epoch 8\n",
    "    63.46,  # Epoch 9\n",
    "    65.68,  # Epoch 10\n",
    "    64.52,  # Epoch 11\n",
    "    64.24,  # Epoch 12\n",
    "    66.03,  # Epoch 13\n",
    "    67.16,  # Epoch 14\n",
    "    66.84,  # Epoch 15\n",
    "    66.63,  # Epoch 16\n",
    "    67.51,  # Epoch 17\n",
    "    68.60,  # Epoch 18\n",
    "    67.34,  # Epoch 19\n",
    "    68.32   # Epoch 20\n",
    "]\n",
    "\n",
    "# Plot training history including testing accuracy\n",
    "def plot_training_history(history, test_acc=68.52):\n",
    "    epochs = range(1, len(history['train_loss']) + 1)\n",
    "\n",
    "    plt.figure(figsize=(18, 5))\n",
    "\n",
    "    # Plot training and validation loss\n",
    "    plt.subplot(1, 3, 1)\n",
    "    plt.plot(epochs, history['train_loss'], label='Training Loss', color='blue')\n",
    "    plt.plot(epochs, history['val_loss'], label='Validation Loss', color='orange')\n",
    "    plt.xlabel('Epochs')\n",
    "    plt.ylabel('Loss')\n",
    "    plt.title('Training and Validation Loss')\n",
    "    plt.legend()\n",
    "\n",
    "    # Plot training and validation accuracy\n",
    "    plt.subplot(1, 3, 2)\n",
    "    plt.plot(epochs, history['train_acc'], label='Training Accuracy', color='blue')\n",
    "    plt.plot(epochs, history['val_acc'], label='Validation Accuracy', color='orange')\n",
    "    plt.xlabel('Epochs')\n",
    "    plt.ylabel('Accuracy')\n",
    "    plt.title('Training and Validation Accuracy')\n",
    "    plt.legend()\n",
    "\n",
    "    # Plot testing accuracy\n",
    "    plt.subplot(1, 3, 3)\n",
    "    plt.scatter([epochs[-1]], [test_acc], color='red', label='Final Test Accuracy', marker='o', s=100)\n",
    "    plt.axhline(y=test_acc, color='red', linestyle='dashed', alpha=0.5, label='Final Test Accuracy')\n",
    "    plt.xlim(epochs[-1] - 1, epochs[-1] + 1)  # Keep x-axis focused on last epoch\n",
    "    plt.ylim(min(history['train_acc']) - 5, max(history['train_acc']) + 5)  # Adjust y-axis to fit\n",
    "    plt.xlabel('Epochs')\n",
    "    plt.ylabel('Accuracy')\n",
    "    plt.title('Testing Accuracy')\n",
    "    plt.legend()\n",
    "\n",
    "    plt.tight_layout()\n",
    "    plt.show()\n",
    "\n",
    "# Assuming `history` contains training and validation loss/accuracy data \n",
    "plot_training_history(history)\n"
   ]
  }
 ],
 "metadata": {
  "kernelspec": {
   "display_name": "Python 3",
   "language": "python",
   "name": "python3"
  },
  "language_info": {
   "codemirror_mode": {
    "name": "ipython",
    "version": 3
   },
   "file_extension": ".py",
   "mimetype": "text/x-python",
   "name": "python",
   "nbconvert_exporter": "python",
   "pygments_lexer": "ipython3",
   "version": "3.12.8"
  }
 },
 "nbformat": 4,
 "nbformat_minor": 2
}
