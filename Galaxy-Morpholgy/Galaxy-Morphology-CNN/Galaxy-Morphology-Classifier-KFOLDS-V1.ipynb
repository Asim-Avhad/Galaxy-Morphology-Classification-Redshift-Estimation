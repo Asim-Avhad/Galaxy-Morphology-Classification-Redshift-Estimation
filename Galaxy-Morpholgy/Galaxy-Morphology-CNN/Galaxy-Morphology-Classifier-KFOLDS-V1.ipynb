{
 "cells": [
  {
   "cell_type": "code",
   "execution_count": 1,
   "metadata": {},
   "outputs": [
    {
     "name": "stdout",
     "output_type": "stream",
     "text": [
      "Using device: cuda\n",
      "Dataset: ./galaxy_dataset_rgb/train\n",
      "Classes: ['Early_Spiral', 'Elliptical', 'Irregular', 'Late_Spiral', 'Lenticular']\n",
      "Total images: 32731\n",
      "Class distribution: Counter({2: 28793, 3: 1996, 4: 801, 0: 648, 1: 493})\n",
      "Dataset: ./galaxy_dataset_rgb/test\n",
      "Classes: ['Early_Spiral', 'Elliptical', 'Irregular', 'Late_Spiral', 'Lenticular']\n",
      "Total images: 8183\n",
      "Class distribution: Counter({2: 7198, 3: 499, 4: 201, 0: 162, 1: 123})\n",
      "Number of classes: 5\n",
      "Class names: ['Early_Spiral', 'Elliptical', 'Irregular', 'Late_Spiral', 'Lenticular']\n",
      "\n",
      "==================== Fold 1/5 ====================\n"
     ]
    },
    {
     "name": "stderr",
     "output_type": "stream",
     "text": [
      "c:\\Users\\Aseem\\AppData\\Local\\Programs\\Python\\Python312\\Lib\\site-packages\\torch\\optim\\lr_scheduler.py:62: UserWarning: The verbose parameter is deprecated. Please use get_last_lr() to access the learning rate.\n",
      "  warnings.warn(\n",
      "Fold 1 - Epoch 1/30: 100%|██████████| 819/819 [01:39<00:00,  8.23it/s, loss=1.51, accuracy=41.1] \n"
     ]
    },
    {
     "name": "stdout",
     "output_type": "stream",
     "text": [
      "\n",
      "Fold 1 - Epoch 1/30: Train Loss: 1.5113, Train Acc: 41.07%, Val Loss: 1.4002, Val Acc: 46.16%\n",
      "Validation loss decreased (inf --> 1.400184). Saving model...\n"
     ]
    },
    {
     "name": "stderr",
     "output_type": "stream",
     "text": [
      "Fold 1 - Epoch 2/30: 100%|██████████| 819/819 [01:29<00:00,  9.14it/s, loss=1.38, accuracy=41.7] \n"
     ]
    },
    {
     "name": "stdout",
     "output_type": "stream",
     "text": [
      "\n",
      "Fold 1 - Epoch 2/30: Train Loss: 1.3825, Train Acc: 41.65%, Val Loss: 1.3139, Val Acc: 30.76%\n",
      "Validation loss decreased (1.400184 --> 1.313912). Saving model...\n"
     ]
    },
    {
     "name": "stderr",
     "output_type": "stream",
     "text": [
      "Fold 1 - Epoch 3/30: 100%|██████████| 819/819 [01:29<00:00,  9.15it/s, loss=1.3, accuracy=39.9]  \n"
     ]
    },
    {
     "name": "stdout",
     "output_type": "stream",
     "text": [
      "\n",
      "Fold 1 - Epoch 3/30: Train Loss: 1.3017, Train Acc: 39.86%, Val Loss: 1.3427, Val Acc: 69.01%\n",
      "EarlyStopping counter: 1 out of 5\n"
     ]
    },
    {
     "name": "stderr",
     "output_type": "stream",
     "text": [
      "Fold 1 - Epoch 4/30: 100%|██████████| 819/819 [01:56<00:00,  7.05it/s, loss=1.25, accuracy=41.1] \n"
     ]
    },
    {
     "name": "stdout",
     "output_type": "stream",
     "text": [
      "\n",
      "Fold 1 - Epoch 4/30: Train Loss: 1.2480, Train Acc: 41.05%, Val Loss: 1.1672, Val Acc: 53.17%\n",
      "Validation loss decreased (1.313912 --> 1.167171). Saving model...\n"
     ]
    },
    {
     "name": "stderr",
     "output_type": "stream",
     "text": [
      "Fold 1 - Epoch 5/30: 100%|██████████| 819/819 [01:58<00:00,  6.92it/s, loss=1.2, accuracy=42.3]  \n"
     ]
    },
    {
     "name": "stdout",
     "output_type": "stream",
     "text": [
      "\n",
      "Fold 1 - Epoch 5/30: Train Loss: 1.2001, Train Acc: 42.32%, Val Loss: 1.1250, Val Acc: 40.68%\n",
      "Validation loss decreased (1.167171 --> 1.124996). Saving model...\n"
     ]
    },
    {
     "name": "stderr",
     "output_type": "stream",
     "text": [
      "Fold 1 - Epoch 6/30: 100%|██████████| 819/819 [01:58<00:00,  6.93it/s, loss=1.15, accuracy=46.5] \n"
     ]
    },
    {
     "name": "stdout",
     "output_type": "stream",
     "text": [
      "\n",
      "Fold 1 - Epoch 6/30: Train Loss: 1.1480, Train Acc: 46.49%, Val Loss: 1.2936, Val Acc: 63.08%\n",
      "EarlyStopping counter: 1 out of 5\n"
     ]
    },
    {
     "name": "stderr",
     "output_type": "stream",
     "text": [
      "Fold 1 - Epoch 7/30: 100%|██████████| 819/819 [01:58<00:00,  6.93it/s, loss=1.14, accuracy=46.6] \n"
     ]
    },
    {
     "name": "stdout",
     "output_type": "stream",
     "text": [
      "\n",
      "Fold 1 - Epoch 7/30: Train Loss: 1.1368, Train Acc: 46.62%, Val Loss: 1.1638, Val Acc: 44.62%\n",
      "EarlyStopping counter: 2 out of 5\n"
     ]
    },
    {
     "name": "stderr",
     "output_type": "stream",
     "text": [
      "Fold 1 - Epoch 8/30: 100%|██████████| 819/819 [02:07<00:00,  6.43it/s, loss=1.01, accuracy=48.7] \n"
     ]
    },
    {
     "name": "stdout",
     "output_type": "stream",
     "text": [
      "\n",
      "Fold 1 - Epoch 8/30: Train Loss: 1.0061, Train Acc: 48.72%, Val Loss: 0.9818, Val Acc: 44.68%\n",
      "Validation loss decreased (1.124996 --> 0.981785). Saving model...\n"
     ]
    },
    {
     "name": "stderr",
     "output_type": "stream",
     "text": [
      "Fold 1 - Epoch 9/30: 100%|██████████| 819/819 [02:11<00:00,  6.22it/s, loss=0.969, accuracy=48.7]\n"
     ]
    },
    {
     "name": "stdout",
     "output_type": "stream",
     "text": [
      "\n",
      "Fold 1 - Epoch 9/30: Train Loss: 0.9693, Train Acc: 48.67%, Val Loss: 0.9294, Val Acc: 44.54%\n",
      "Validation loss decreased (0.981785 --> 0.929439). Saving model...\n"
     ]
    },
    {
     "name": "stderr",
     "output_type": "stream",
     "text": [
      "Fold 1 - Epoch 10/30: 100%|██████████| 819/819 [02:12<00:00,  6.17it/s, loss=0.953, accuracy=48.7] \n"
     ]
    },
    {
     "name": "stdout",
     "output_type": "stream",
     "text": [
      "\n",
      "Fold 1 - Epoch 10/30: Train Loss: 0.9534, Train Acc: 48.72%, Val Loss: 0.9342, Val Acc: 46.13%\n",
      "Validation loss decreased (0.929439 --> 0.934211). Saving model...\n"
     ]
    },
    {
     "name": "stderr",
     "output_type": "stream",
     "text": [
      "Fold 1 - Epoch 11/30: 100%|██████████| 819/819 [02:09<00:00,  6.34it/s, loss=0.928, accuracy=50.9] \n"
     ]
    },
    {
     "name": "stdout",
     "output_type": "stream",
     "text": [
      "\n",
      "Fold 1 - Epoch 11/30: Train Loss: 0.9285, Train Acc: 50.87%, Val Loss: 0.8816, Val Acc: 54.44%\n",
      "Validation loss decreased (0.934211 --> 0.881592). Saving model...\n"
     ]
    },
    {
     "name": "stderr",
     "output_type": "stream",
     "text": [
      "Fold 1 - Epoch 12/30: 100%|██████████| 819/819 [01:44<00:00,  7.85it/s, loss=0.915, accuracy=54.4] \n"
     ]
    },
    {
     "name": "stdout",
     "output_type": "stream",
     "text": [
      "\n",
      "Fold 1 - Epoch 12/30: Train Loss: 0.9151, Train Acc: 54.40%, Val Loss: 0.9178, Val Acc: 54.41%\n",
      "EarlyStopping counter: 1 out of 5\n"
     ]
    },
    {
     "name": "stderr",
     "output_type": "stream",
     "text": [
      "Fold 1 - Epoch 13/30: 100%|██████████| 819/819 [01:59<00:00,  6.83it/s, loss=0.904, accuracy=53.4] \n"
     ]
    },
    {
     "name": "stdout",
     "output_type": "stream",
     "text": [
      "\n",
      "Fold 1 - Epoch 13/30: Train Loss: 0.9042, Train Acc: 53.43%, Val Loss: 0.8846, Val Acc: 50.10%\n",
      "Validation loss decreased (0.881592 --> 0.884604). Saving model...\n"
     ]
    },
    {
     "name": "stderr",
     "output_type": "stream",
     "text": [
      "Fold 1 - Epoch 14/30: 100%|██████████| 819/819 [02:10<00:00,  6.29it/s, loss=0.903, accuracy=53.2] \n"
     ]
    },
    {
     "name": "stdout",
     "output_type": "stream",
     "text": [
      "\n",
      "Fold 1 - Epoch 14/30: Train Loss: 0.9034, Train Acc: 53.19%, Val Loss: 0.8818, Val Acc: 50.36%\n",
      "Validation loss decreased (0.884604 --> 0.881830). Saving model...\n"
     ]
    },
    {
     "name": "stderr",
     "output_type": "stream",
     "text": [
      "Fold 1 - Epoch 15/30: 100%|██████████| 819/819 [02:02<00:00,  6.66it/s, loss=0.889, accuracy=52.4]\n"
     ]
    },
    {
     "name": "stdout",
     "output_type": "stream",
     "text": [
      "\n",
      "Fold 1 - Epoch 15/30: Train Loss: 0.8890, Train Acc: 52.44%, Val Loss: 0.8833, Val Acc: 50.50%\n",
      "Validation loss decreased (0.881830 --> 0.883321). Saving model...\n"
     ]
    },
    {
     "name": "stderr",
     "output_type": "stream",
     "text": [
      "Fold 1 - Epoch 16/30: 100%|██████████| 819/819 [01:52<00:00,  7.28it/s, loss=0.891, accuracy=53.4]\n"
     ]
    },
    {
     "name": "stdout",
     "output_type": "stream",
     "text": [
      "\n",
      "Fold 1 - Epoch 16/30: Train Loss: 0.8914, Train Acc: 53.36%, Val Loss: 0.8821, Val Acc: 50.28%\n",
      "Validation loss decreased (0.883321 --> 0.882068). Saving model...\n"
     ]
    },
    {
     "name": "stderr",
     "output_type": "stream",
     "text": [
      "Fold 1 - Epoch 17/30: 100%|██████████| 819/819 [01:44<00:00,  7.87it/s, loss=0.876, accuracy=53.3] \n"
     ]
    },
    {
     "name": "stdout",
     "output_type": "stream",
     "text": [
      "\n",
      "Fold 1 - Epoch 17/30: Train Loss: 0.8759, Train Acc: 53.35%, Val Loss: 0.8921, Val Acc: 51.95%\n",
      "EarlyStopping counter: 1 out of 5\n"
     ]
    },
    {
     "name": "stderr",
     "output_type": "stream",
     "text": [
      "Fold 1 - Epoch 18/30: 100%|██████████| 819/819 [01:29<00:00,  9.16it/s, loss=0.898, accuracy=52.5] \n"
     ]
    },
    {
     "name": "stdout",
     "output_type": "stream",
     "text": [
      "\n",
      "Fold 1 - Epoch 18/30: Train Loss: 0.8977, Train Acc: 52.47%, Val Loss: 0.9074, Val Acc: 50.40%\n",
      "EarlyStopping counter: 2 out of 5\n"
     ]
    },
    {
     "name": "stderr",
     "output_type": "stream",
     "text": [
      "Fold 1 - Epoch 19/30: 100%|██████████| 819/819 [01:28<00:00,  9.23it/s, loss=0.894, accuracy=53.1] \n"
     ]
    },
    {
     "name": "stdout",
     "output_type": "stream",
     "text": [
      "\n",
      "Fold 1 - Epoch 19/30: Train Loss: 0.8937, Train Acc: 53.09%, Val Loss: 0.9040, Val Acc: 49.17%\n",
      "EarlyStopping counter: 3 out of 5\n"
     ]
    },
    {
     "name": "stderr",
     "output_type": "stream",
     "text": [
      "Fold 1 - Epoch 20/30: 100%|██████████| 819/819 [01:29<00:00,  9.11it/s, loss=0.889, accuracy=52.7]\n"
     ]
    },
    {
     "name": "stdout",
     "output_type": "stream",
     "text": [
      "\n",
      "Fold 1 - Epoch 20/30: Train Loss: 0.8891, Train Acc: 52.75%, Val Loss: 0.9063, Val Acc: 49.55%\n",
      "EarlyStopping counter: 4 out of 5\n"
     ]
    },
    {
     "name": "stderr",
     "output_type": "stream",
     "text": [
      "Fold 1 - Epoch 21/30: 100%|██████████| 819/819 [01:29<00:00,  9.19it/s, loss=0.879, accuracy=52.7] \n"
     ]
    },
    {
     "name": "stdout",
     "output_type": "stream",
     "text": [
      "\n",
      "Fold 1 - Epoch 21/30: Train Loss: 0.8795, Train Acc: 52.67%, Val Loss: 0.8774, Val Acc: 50.27%\n",
      "Validation loss decreased (0.882068 --> 0.877424). Saving model...\n"
     ]
    },
    {
     "name": "stderr",
     "output_type": "stream",
     "text": [
      "Fold 1 - Epoch 22/30: 100%|██████████| 819/819 [01:30<00:00,  9.06it/s, loss=0.891, accuracy=52.6] \n"
     ]
    },
    {
     "name": "stdout",
     "output_type": "stream",
     "text": [
      "\n",
      "Fold 1 - Epoch 22/30: Train Loss: 0.8905, Train Acc: 52.60%, Val Loss: 0.8895, Val Acc: 50.60%\n",
      "EarlyStopping counter: 1 out of 5\n"
     ]
    },
    {
     "name": "stderr",
     "output_type": "stream",
     "text": [
      "Fold 1 - Epoch 23/30: 100%|██████████| 819/819 [01:28<00:00,  9.21it/s, loss=0.874, accuracy=52.4]\n"
     ]
    },
    {
     "name": "stdout",
     "output_type": "stream",
     "text": [
      "\n",
      "Fold 1 - Epoch 23/30: Train Loss: 0.8743, Train Acc: 52.41%, Val Loss: 0.8677, Val Acc: 49.58%\n",
      "Validation loss decreased (0.877424 --> 0.867723). Saving model...\n"
     ]
    },
    {
     "name": "stderr",
     "output_type": "stream",
     "text": [
      "Fold 1 - Epoch 24/30: 100%|██████████| 819/819 [01:50<00:00,  7.44it/s, loss=0.896, accuracy=52.6]\n"
     ]
    },
    {
     "name": "stdout",
     "output_type": "stream",
     "text": [
      "\n",
      "Fold 1 - Epoch 24/30: Train Loss: 0.8960, Train Acc: 52.64%, Val Loss: 0.9151, Val Acc: 48.46%\n",
      "EarlyStopping counter: 1 out of 5\n"
     ]
    },
    {
     "name": "stderr",
     "output_type": "stream",
     "text": [
      "Fold 1 - Epoch 25/30: 100%|██████████| 819/819 [01:54<00:00,  7.15it/s, loss=0.898, accuracy=52.6]\n"
     ]
    },
    {
     "name": "stdout",
     "output_type": "stream",
     "text": [
      "\n",
      "Fold 1 - Epoch 25/30: Train Loss: 0.8981, Train Acc: 52.57%, Val Loss: 0.8854, Val Acc: 50.08%\n",
      "EarlyStopping counter: 2 out of 5\n"
     ]
    },
    {
     "name": "stderr",
     "output_type": "stream",
     "text": [
      "Fold 1 - Epoch 26/30: 100%|██████████| 819/819 [02:12<00:00,  6.20it/s, loss=0.892, accuracy=52.3] \n"
     ]
    },
    {
     "name": "stdout",
     "output_type": "stream",
     "text": [
      "\n",
      "Fold 1 - Epoch 26/30: Train Loss: 0.8916, Train Acc: 52.30%, Val Loss: 0.8898, Val Acc: 51.90%\n",
      "EarlyStopping counter: 3 out of 5\n"
     ]
    },
    {
     "name": "stderr",
     "output_type": "stream",
     "text": [
      "Fold 1 - Epoch 27/30: 100%|██████████| 819/819 [02:17<00:00,  5.94it/s, loss=0.884, accuracy=52.4]\n"
     ]
    },
    {
     "name": "stdout",
     "output_type": "stream",
     "text": [
      "\n",
      "Fold 1 - Epoch 27/30: Train Loss: 0.8838, Train Acc: 52.35%, Val Loss: 0.8729, Val Acc: 50.50%\n",
      "Validation loss decreased (0.867723 --> 0.872895). Saving model...\n"
     ]
    },
    {
     "name": "stderr",
     "output_type": "stream",
     "text": [
      "Fold 1 - Epoch 28/30: 100%|██████████| 819/819 [01:59<00:00,  6.87it/s, loss=0.896, accuracy=52.3] \n"
     ]
    },
    {
     "name": "stdout",
     "output_type": "stream",
     "text": [
      "\n",
      "Fold 1 - Epoch 28/30: Train Loss: 0.8963, Train Acc: 52.34%, Val Loss: 0.8993, Val Acc: 49.00%\n",
      "EarlyStopping counter: 1 out of 5\n"
     ]
    },
    {
     "name": "stderr",
     "output_type": "stream",
     "text": [
      "Fold 1 - Epoch 29/30: 100%|██████████| 819/819 [01:38<00:00,  8.28it/s, loss=0.881, accuracy=52.8]\n"
     ]
    },
    {
     "name": "stdout",
     "output_type": "stream",
     "text": [
      "\n",
      "Fold 1 - Epoch 29/30: Train Loss: 0.8814, Train Acc: 52.84%, Val Loss: 0.8933, Val Acc: 49.40%\n",
      "EarlyStopping counter: 2 out of 5\n"
     ]
    },
    {
     "name": "stderr",
     "output_type": "stream",
     "text": [
      "Fold 1 - Epoch 30/30: 100%|██████████| 819/819 [01:29<00:00,  9.16it/s, loss=0.879, accuracy=52.8] \n"
     ]
    },
    {
     "name": "stdout",
     "output_type": "stream",
     "text": [
      "\n",
      "Fold 1 - Epoch 30/30: Train Loss: 0.8790, Train Acc: 52.76%, Val Loss: 0.8679, Val Acc: 51.70%\n",
      "Validation loss decreased (0.872895 --> 0.867939). Saving model...\n"
     ]
    },
    {
     "name": "stderr",
     "output_type": "stream",
     "text": [
      "Evaluating Fold 1: 100%|██████████| 205/205 [00:20<00:00, 10.11it/s]\n"
     ]
    },
    {
     "name": "stdout",
     "output_type": "stream",
     "text": [
      "Accuracy: 51.00%\n",
      "\n",
      "Classification Report:\n",
      "               precision    recall  f1-score   support\n",
      "\n",
      "Early_Spiral     0.1243    0.7632    0.2138       114\n",
      "  Elliptical     0.0778    0.7368    0.1407        95\n",
      "   Irregular     0.9712    0.4809    0.6433      5745\n",
      " Late_Spiral     0.2830    0.7885    0.4165       416\n",
      "  Lenticular     0.0965    0.5141    0.1625       177\n",
      "\n",
      "    accuracy                         0.5100      6547\n",
      "   macro avg     0.3105    0.6567    0.3154      6547\n",
      "weighted avg     0.8761    0.5100    0.6011      6547\n",
      "\n",
      "\n",
      "==================== Fold 2/5 ====================\n"
     ]
    },
    {
     "name": "stderr",
     "output_type": "stream",
     "text": [
      "c:\\Users\\Aseem\\AppData\\Local\\Programs\\Python\\Python312\\Lib\\site-packages\\torch\\optim\\lr_scheduler.py:62: UserWarning: The verbose parameter is deprecated. Please use get_last_lr() to access the learning rate.\n",
      "  warnings.warn(\n",
      "Fold 2 - Epoch 1/30: 100%|██████████| 819/819 [01:37<00:00,  8.40it/s, loss=1.48, accuracy=39.1] \n"
     ]
    },
    {
     "name": "stdout",
     "output_type": "stream",
     "text": [
      "\n",
      "Fold 2 - Epoch 1/30: Train Loss: 1.4845, Train Acc: 39.07%, Val Loss: 2.1356, Val Acc: 42.79%\n",
      "Validation loss decreased (inf --> 2.135634). Saving model...\n"
     ]
    },
    {
     "name": "stderr",
     "output_type": "stream",
     "text": [
      "Fold 2 - Epoch 2/30: 100%|██████████| 819/819 [01:54<00:00,  7.18it/s, loss=1.38, accuracy=41.2] \n"
     ]
    },
    {
     "name": "stdout",
     "output_type": "stream",
     "text": [
      "\n",
      "Fold 2 - Epoch 2/30: Train Loss: 1.3762, Train Acc: 41.18%, Val Loss: 1.3485, Val Acc: 23.57%\n",
      "Validation loss decreased (2.135634 --> 1.348502). Saving model...\n"
     ]
    },
    {
     "name": "stderr",
     "output_type": "stream",
     "text": [
      "Fold 2 - Epoch 3/30: 100%|██████████| 819/819 [01:32<00:00,  8.83it/s, loss=1.29, accuracy=38.9] \n"
     ]
    },
    {
     "name": "stdout",
     "output_type": "stream",
     "text": [
      "\n",
      "Fold 2 - Epoch 3/30: Train Loss: 1.2938, Train Acc: 38.94%, Val Loss: 1.2965, Val Acc: 58.71%\n",
      "Validation loss decreased (1.348502 --> 1.296545). Saving model...\n"
     ]
    },
    {
     "name": "stderr",
     "output_type": "stream",
     "text": [
      "Fold 2 - Epoch 4/30: 100%|██████████| 819/819 [02:18<00:00,  5.90it/s, loss=1.23, accuracy=43.9] \n"
     ]
    },
    {
     "name": "stdout",
     "output_type": "stream",
     "text": [
      "\n",
      "Fold 2 - Epoch 4/30: Train Loss: 1.2288, Train Acc: 43.93%, Val Loss: 1.1748, Val Acc: 25.34%\n",
      "Validation loss decreased (1.296545 --> 1.174829). Saving model...\n"
     ]
    },
    {
     "name": "stderr",
     "output_type": "stream",
     "text": [
      "Fold 2 - Epoch 5/30: 100%|██████████| 819/819 [02:26<00:00,  5.59it/s, loss=1.19, accuracy=42]   \n"
     ]
    },
    {
     "name": "stdout",
     "output_type": "stream",
     "text": [
      "\n",
      "Fold 2 - Epoch 5/30: Train Loss: 1.1917, Train Acc: 42.03%, Val Loss: 1.1949, Val Acc: 31.18%\n",
      "EarlyStopping counter: 1 out of 5\n"
     ]
    },
    {
     "name": "stderr",
     "output_type": "stream",
     "text": [
      "Fold 2 - Epoch 6/30: 100%|██████████| 819/819 [02:00<00:00,  6.82it/s, loss=1.14, accuracy=43.7] \n"
     ]
    },
    {
     "name": "stdout",
     "output_type": "stream",
     "text": [
      "\n",
      "Fold 2 - Epoch 6/30: Train Loss: 1.1387, Train Acc: 43.72%, Val Loss: 1.1809, Val Acc: 47.63%\n",
      "Validation loss decreased (1.174829 --> 1.180898). Saving model...\n"
     ]
    },
    {
     "name": "stderr",
     "output_type": "stream",
     "text": [
      "Fold 2 - Epoch 7/30: 100%|██████████| 819/819 [01:30<00:00,  9.04it/s, loss=1.1, accuracy=49.1]  \n"
     ]
    },
    {
     "name": "stdout",
     "output_type": "stream",
     "text": [
      "\n",
      "Fold 2 - Epoch 7/30: Train Loss: 1.1026, Train Acc: 49.13%, Val Loss: 1.1508, Val Acc: 55.68%\n",
      "Validation loss decreased (1.180898 --> 1.150784). Saving model...\n"
     ]
    },
    {
     "name": "stderr",
     "output_type": "stream",
     "text": [
      "Fold 2 - Epoch 8/30: 100%|██████████| 819/819 [01:30<00:00,  9.07it/s, loss=0.99, accuracy=50.3] \n"
     ]
    },
    {
     "name": "stdout",
     "output_type": "stream",
     "text": [
      "\n",
      "Fold 2 - Epoch 8/30: Train Loss: 0.9898, Train Acc: 50.32%, Val Loss: 0.9583, Val Acc: 54.05%\n",
      "Validation loss decreased (1.150784 --> 0.958306). Saving model...\n"
     ]
    },
    {
     "name": "stderr",
     "output_type": "stream",
     "text": [
      "Fold 2 - Epoch 9/30: 100%|██████████| 819/819 [01:29<00:00,  9.11it/s, loss=0.93, accuracy=52.3]  \n"
     ]
    },
    {
     "name": "stdout",
     "output_type": "stream",
     "text": [
      "\n",
      "Fold 2 - Epoch 9/30: Train Loss: 0.9301, Train Acc: 52.27%, Val Loss: 0.9304, Val Acc: 57.09%\n",
      "Validation loss decreased (0.958306 --> 0.930420). Saving model...\n"
     ]
    },
    {
     "name": "stderr",
     "output_type": "stream",
     "text": [
      "Fold 2 - Epoch 10/30: 100%|██████████| 819/819 [01:47<00:00,  7.65it/s, loss=0.897, accuracy=55.4]\n"
     ]
    },
    {
     "name": "stdout",
     "output_type": "stream",
     "text": [
      "\n",
      "Fold 2 - Epoch 10/30: Train Loss: 0.8969, Train Acc: 55.35%, Val Loss: 0.9196, Val Acc: 50.47%\n",
      "Validation loss decreased (0.930420 --> 0.919625). Saving model...\n"
     ]
    },
    {
     "name": "stderr",
     "output_type": "stream",
     "text": [
      "Fold 2 - Epoch 11/30: 100%|██████████| 819/819 [02:11<00:00,  6.23it/s, loss=0.874, accuracy=56.2] \n"
     ]
    },
    {
     "name": "stdout",
     "output_type": "stream",
     "text": [
      "\n",
      "Fold 2 - Epoch 11/30: Train Loss: 0.8743, Train Acc: 56.25%, Val Loss: 0.8850, Val Acc: 60.14%\n",
      "Validation loss decreased (0.919625 --> 0.885034). Saving model...\n"
     ]
    },
    {
     "name": "stderr",
     "output_type": "stream",
     "text": [
      "Fold 2 - Epoch 12/30: 100%|██████████| 819/819 [02:17<00:00,  5.95it/s, loss=0.854, accuracy=58.9] \n"
     ]
    },
    {
     "name": "stdout",
     "output_type": "stream",
     "text": [
      "\n",
      "Fold 2 - Epoch 12/30: Train Loss: 0.8543, Train Acc: 58.95%, Val Loss: 0.8715, Val Acc: 58.23%\n",
      "Validation loss decreased (0.885034 --> 0.871472). Saving model...\n"
     ]
    },
    {
     "name": "stderr",
     "output_type": "stream",
     "text": [
      "Fold 2 - Epoch 13/30: 100%|██████████| 819/819 [02:11<00:00,  6.22it/s, loss=0.85, accuracy=60.3]  \n"
     ]
    },
    {
     "name": "stdout",
     "output_type": "stream",
     "text": [
      "\n",
      "Fold 2 - Epoch 13/30: Train Loss: 0.8502, Train Acc: 60.34%, Val Loss: 0.8384, Val Acc: 59.26%\n",
      "Validation loss decreased (0.871472 --> 0.838405). Saving model...\n"
     ]
    },
    {
     "name": "stderr",
     "output_type": "stream",
     "text": [
      "Fold 2 - Epoch 14/30: 100%|██████████| 819/819 [02:20<00:00,  5.83it/s, loss=0.81, accuracy=62.3]  \n"
     ]
    },
    {
     "name": "stdout",
     "output_type": "stream",
     "text": [
      "\n",
      "Fold 2 - Epoch 14/30: Train Loss: 0.8104, Train Acc: 62.27%, Val Loss: 0.8246, Val Acc: 65.17%\n",
      "Validation loss decreased (0.838405 --> 0.824620). Saving model...\n"
     ]
    },
    {
     "name": "stderr",
     "output_type": "stream",
     "text": [
      "Fold 2 - Epoch 15/30: 100%|██████████| 819/819 [02:02<00:00,  6.67it/s, loss=0.814, accuracy=63.5] \n"
     ]
    },
    {
     "name": "stdout",
     "output_type": "stream",
     "text": [
      "\n",
      "Fold 2 - Epoch 15/30: Train Loss: 0.8138, Train Acc: 63.54%, Val Loss: 0.7981, Val Acc: 65.35%\n",
      "Validation loss decreased (0.824620 --> 0.798053). Saving model...\n"
     ]
    },
    {
     "name": "stderr",
     "output_type": "stream",
     "text": [
      "Fold 2 - Epoch 16/30: 100%|██████████| 819/819 [01:29<00:00,  9.12it/s, loss=0.774, accuracy=66]   \n"
     ]
    },
    {
     "name": "stdout",
     "output_type": "stream",
     "text": [
      "\n",
      "Fold 2 - Epoch 16/30: Train Loss: 0.7736, Train Acc: 65.97%, Val Loss: 0.8196, Val Acc: 69.49%\n",
      "EarlyStopping counter: 1 out of 5\n"
     ]
    },
    {
     "name": "stderr",
     "output_type": "stream",
     "text": [
      "Fold 2 - Epoch 17/30: 100%|██████████| 819/819 [01:44<00:00,  7.82it/s, loss=0.791, accuracy=66.7] \n"
     ]
    },
    {
     "name": "stdout",
     "output_type": "stream",
     "text": [
      "\n",
      "Fold 2 - Epoch 17/30: Train Loss: 0.7911, Train Acc: 66.75%, Val Loss: 0.7913, Val Acc: 71.72%\n",
      "Validation loss decreased (0.798053 --> 0.791290). Saving model...\n"
     ]
    },
    {
     "name": "stderr",
     "output_type": "stream",
     "text": [
      "Fold 2 - Epoch 18/30: 100%|██████████| 819/819 [01:29<00:00,  9.19it/s, loss=0.756, accuracy=69.1] \n"
     ]
    },
    {
     "name": "stdout",
     "output_type": "stream",
     "text": [
      "\n",
      "Fold 2 - Epoch 18/30: Train Loss: 0.7559, Train Acc: 69.10%, Val Loss: 0.7644, Val Acc: 68.33%\n",
      "Validation loss decreased (0.791290 --> 0.764357). Saving model...\n"
     ]
    },
    {
     "name": "stderr",
     "output_type": "stream",
     "text": [
      "Fold 2 - Epoch 19/30: 100%|██████████| 819/819 [01:32<00:00,  8.88it/s, loss=0.744, accuracy=69.2] \n"
     ]
    },
    {
     "name": "stdout",
     "output_type": "stream",
     "text": [
      "\n",
      "Fold 2 - Epoch 19/30: Train Loss: 0.7440, Train Acc: 69.23%, Val Loss: 0.7811, Val Acc: 68.79%\n",
      "EarlyStopping counter: 1 out of 5\n"
     ]
    },
    {
     "name": "stderr",
     "output_type": "stream",
     "text": [
      "Fold 2 - Epoch 20/30: 100%|██████████| 819/819 [01:31<00:00,  8.98it/s, loss=0.728, accuracy=69.1] \n"
     ]
    },
    {
     "name": "stdout",
     "output_type": "stream",
     "text": [
      "\n",
      "Fold 2 - Epoch 20/30: Train Loss: 0.7284, Train Acc: 69.05%, Val Loss: 0.7568, Val Acc: 71.83%\n",
      "Validation loss decreased (0.764357 --> 0.756831). Saving model...\n"
     ]
    },
    {
     "name": "stderr",
     "output_type": "stream",
     "text": [
      "Fold 2 - Epoch 21/30: 100%|██████████| 819/819 [02:14<00:00,  6.10it/s, loss=0.719, accuracy=70.4] \n"
     ]
    },
    {
     "name": "stdout",
     "output_type": "stream",
     "text": [
      "\n",
      "Fold 2 - Epoch 21/30: Train Loss: 0.7192, Train Acc: 70.40%, Val Loss: 0.7566, Val Acc: 69.84%\n",
      "Validation loss decreased (0.756831 --> 0.756629). Saving model...\n"
     ]
    },
    {
     "name": "stderr",
     "output_type": "stream",
     "text": [
      "Fold 2 - Epoch 22/30: 100%|██████████| 819/819 [01:45<00:00,  7.76it/s, loss=0.716, accuracy=69.9] \n"
     ]
    },
    {
     "name": "stdout",
     "output_type": "stream",
     "text": [
      "\n",
      "Fold 2 - Epoch 22/30: Train Loss: 0.7160, Train Acc: 69.89%, Val Loss: 0.7781, Val Acc: 67.63%\n",
      "EarlyStopping counter: 1 out of 5\n"
     ]
    },
    {
     "name": "stderr",
     "output_type": "stream",
     "text": [
      "Fold 2 - Epoch 23/30: 100%|██████████| 819/819 [01:28<00:00,  9.22it/s, loss=0.698, accuracy=70.6] \n"
     ]
    },
    {
     "name": "stdout",
     "output_type": "stream",
     "text": [
      "\n",
      "Fold 2 - Epoch 23/30: Train Loss: 0.6981, Train Acc: 70.58%, Val Loss: 0.7602, Val Acc: 73.65%\n",
      "Validation loss decreased (0.756629 --> 0.760200). Saving model...\n"
     ]
    },
    {
     "name": "stderr",
     "output_type": "stream",
     "text": [
      "Fold 2 - Epoch 24/30: 100%|██████████| 819/819 [01:28<00:00,  9.21it/s, loss=0.691, accuracy=71.7] \n"
     ]
    },
    {
     "name": "stdout",
     "output_type": "stream",
     "text": [
      "\n",
      "Fold 2 - Epoch 24/30: Train Loss: 0.6910, Train Acc: 71.67%, Val Loss: 0.7412, Val Acc: 69.17%\n",
      "Validation loss decreased (0.760200 --> 0.741195). Saving model...\n"
     ]
    },
    {
     "name": "stderr",
     "output_type": "stream",
     "text": [
      "Fold 2 - Epoch 25/30: 100%|██████████| 819/819 [01:36<00:00,  8.49it/s, loss=0.704, accuracy=71.6] \n"
     ]
    },
    {
     "name": "stdout",
     "output_type": "stream",
     "text": [
      "\n",
      "Fold 2 - Epoch 25/30: Train Loss: 0.7045, Train Acc: 71.59%, Val Loss: 0.7627, Val Acc: 75.18%\n",
      "EarlyStopping counter: 1 out of 5\n"
     ]
    },
    {
     "name": "stderr",
     "output_type": "stream",
     "text": [
      "Fold 2 - Epoch 26/30: 100%|██████████| 819/819 [01:48<00:00,  7.52it/s, loss=0.688, accuracy=71.7] \n"
     ]
    },
    {
     "name": "stdout",
     "output_type": "stream",
     "text": [
      "\n",
      "Fold 2 - Epoch 26/30: Train Loss: 0.6876, Train Acc: 71.73%, Val Loss: 0.7290, Val Acc: 73.13%\n",
      "Validation loss decreased (0.741195 --> 0.728964). Saving model...\n"
     ]
    },
    {
     "name": "stderr",
     "output_type": "stream",
     "text": [
      "Fold 2 - Epoch 27/30: 100%|██████████| 819/819 [02:13<00:00,  6.15it/s, loss=0.678, accuracy=72.6] \n"
     ]
    },
    {
     "name": "stdout",
     "output_type": "stream",
     "text": [
      "\n",
      "Fold 2 - Epoch 27/30: Train Loss: 0.6783, Train Acc: 72.64%, Val Loss: 0.7432, Val Acc: 70.97%\n",
      "EarlyStopping counter: 1 out of 5\n"
     ]
    },
    {
     "name": "stderr",
     "output_type": "stream",
     "text": [
      "Fold 2 - Epoch 28/30: 100%|██████████| 819/819 [02:15<00:00,  6.03it/s, loss=0.694, accuracy=72.4] \n"
     ]
    },
    {
     "name": "stdout",
     "output_type": "stream",
     "text": [
      "\n",
      "Fold 2 - Epoch 28/30: Train Loss: 0.6942, Train Acc: 72.45%, Val Loss: 0.7008, Val Acc: 76.69%\n",
      "Validation loss decreased (0.728964 --> 0.700836). Saving model...\n"
     ]
    },
    {
     "name": "stderr",
     "output_type": "stream",
     "text": [
      "Fold 2 - Epoch 29/30: 100%|██████████| 819/819 [01:54<00:00,  7.12it/s, loss=0.686, accuracy=72.7] \n"
     ]
    },
    {
     "name": "stdout",
     "output_type": "stream",
     "text": [
      "\n",
      "Fold 2 - Epoch 29/30: Train Loss: 0.6864, Train Acc: 72.73%, Val Loss: 0.7715, Val Acc: 74.09%\n",
      "EarlyStopping counter: 1 out of 5\n"
     ]
    },
    {
     "name": "stderr",
     "output_type": "stream",
     "text": [
      "Fold 2 - Epoch 30/30: 100%|██████████| 819/819 [01:32<00:00,  8.82it/s, loss=0.664, accuracy=72.7] \n"
     ]
    },
    {
     "name": "stdout",
     "output_type": "stream",
     "text": [
      "\n",
      "Fold 2 - Epoch 30/30: Train Loss: 0.6639, Train Acc: 72.68%, Val Loss: 0.7358, Val Acc: 73.43%\n",
      "EarlyStopping counter: 2 out of 5\n"
     ]
    },
    {
     "name": "stderr",
     "output_type": "stream",
     "text": [
      "Evaluating Fold 2: 100%|██████████| 205/205 [00:22<00:00,  9.14it/s]\n"
     ]
    },
    {
     "name": "stdout",
     "output_type": "stream",
     "text": [
      "Accuracy: 76.46%\n",
      "\n",
      "Classification Report:\n",
      "               precision    recall  f1-score   support\n",
      "\n",
      "Early_Spiral     0.2747    0.6711    0.3899       149\n",
      "  Elliptical     0.1127    0.7447    0.1958        94\n",
      "   Irregular     0.9827    0.7674    0.8618      5774\n",
      " Late_Spiral     0.5324    0.8211    0.6460       380\n",
      "  Lenticular     0.1974    0.6174    0.2992       149\n",
      "\n",
      "    accuracy                         0.7646      6546\n",
      "   macro avg     0.4200    0.7243    0.4785      6546\n",
      "weighted avg     0.9101    0.7646    0.8162      6546\n",
      "\n",
      "\n",
      "==================== Fold 3/5 ====================\n"
     ]
    },
    {
     "name": "stderr",
     "output_type": "stream",
     "text": [
      "c:\\Users\\Aseem\\AppData\\Local\\Programs\\Python\\Python312\\Lib\\site-packages\\torch\\optim\\lr_scheduler.py:62: UserWarning: The verbose parameter is deprecated. Please use get_last_lr() to access the learning rate.\n",
      "  warnings.warn(\n",
      "Fold 3 - Epoch 1/30: 100%|██████████| 819/819 [01:43<00:00,  7.93it/s, loss=1.5, accuracy=35.6]  \n"
     ]
    },
    {
     "name": "stdout",
     "output_type": "stream",
     "text": [
      "\n",
      "Fold 3 - Epoch 1/30: Train Loss: 1.5044, Train Acc: 35.63%, Val Loss: 1.4431, Val Acc: 16.35%\n",
      "Validation loss decreased (inf --> 1.443060). Saving model...\n"
     ]
    },
    {
     "name": "stderr",
     "output_type": "stream",
     "text": [
      "Fold 3 - Epoch 2/30: 100%|██████████| 819/819 [01:29<00:00,  9.16it/s, loss=1.39, accuracy=38]   \n"
     ]
    },
    {
     "name": "stdout",
     "output_type": "stream",
     "text": [
      "\n",
      "Fold 3 - Epoch 2/30: Train Loss: 1.3855, Train Acc: 38.04%, Val Loss: 1.4191, Val Acc: 28.26%\n",
      "Validation loss decreased (1.443060 --> 1.419103). Saving model...\n"
     ]
    },
    {
     "name": "stderr",
     "output_type": "stream",
     "text": [
      "Fold 3 - Epoch 3/30: 100%|██████████| 819/819 [01:29<00:00,  9.12it/s, loss=1.33, accuracy=40.5] \n"
     ]
    },
    {
     "name": "stdout",
     "output_type": "stream",
     "text": [
      "\n",
      "Fold 3 - Epoch 3/30: Train Loss: 1.3251, Train Acc: 40.51%, Val Loss: 1.3601, Val Acc: 56.54%\n",
      "Validation loss decreased (1.419103 --> 1.360118). Saving model...\n"
     ]
    },
    {
     "name": "stderr",
     "output_type": "stream",
     "text": [
      "Fold 3 - Epoch 4/30: 100%|██████████| 819/819 [01:29<00:00,  9.13it/s, loss=1.3, accuracy=38.6]  \n"
     ]
    },
    {
     "name": "stdout",
     "output_type": "stream",
     "text": [
      "\n",
      "Fold 3 - Epoch 4/30: Train Loss: 1.2992, Train Acc: 38.61%, Val Loss: 1.2134, Val Acc: 42.41%\n",
      "Validation loss decreased (1.360118 --> 1.213402). Saving model...\n"
     ]
    },
    {
     "name": "stderr",
     "output_type": "stream",
     "text": [
      "Fold 3 - Epoch 5/30: 100%|██████████| 819/819 [01:30<00:00,  9.10it/s, loss=1.24, accuracy=40.1] \n"
     ]
    },
    {
     "name": "stdout",
     "output_type": "stream",
     "text": [
      "\n",
      "Fold 3 - Epoch 5/30: Train Loss: 1.2427, Train Acc: 40.11%, Val Loss: 1.1702, Val Acc: 37.78%\n",
      "Validation loss decreased (1.213402 --> 1.170241). Saving model...\n"
     ]
    },
    {
     "name": "stderr",
     "output_type": "stream",
     "text": [
      "Fold 3 - Epoch 6/30: 100%|██████████| 819/819 [01:28<00:00,  9.20it/s, loss=1.18, accuracy=44.5] \n"
     ]
    },
    {
     "name": "stdout",
     "output_type": "stream",
     "text": [
      "\n",
      "Fold 3 - Epoch 6/30: Train Loss: 1.1814, Train Acc: 44.51%, Val Loss: 1.1257, Val Acc: 58.94%\n",
      "Validation loss decreased (1.170241 --> 1.125743). Saving model...\n"
     ]
    },
    {
     "name": "stderr",
     "output_type": "stream",
     "text": [
      "Fold 3 - Epoch 7/30: 100%|██████████| 819/819 [01:29<00:00,  9.13it/s, loss=1.17, accuracy=46.8] \n"
     ]
    },
    {
     "name": "stdout",
     "output_type": "stream",
     "text": [
      "\n",
      "Fold 3 - Epoch 7/30: Train Loss: 1.1728, Train Acc: 46.80%, Val Loss: 1.1551, Val Acc: 29.94%\n",
      "EarlyStopping counter: 1 out of 5\n"
     ]
    },
    {
     "name": "stderr",
     "output_type": "stream",
     "text": [
      "Fold 3 - Epoch 8/30: 100%|██████████| 819/819 [01:29<00:00,  9.18it/s, loss=1.13, accuracy=47.5] \n"
     ]
    },
    {
     "name": "stdout",
     "output_type": "stream",
     "text": [
      "\n",
      "Fold 3 - Epoch 8/30: Train Loss: 1.1265, Train Acc: 47.52%, Val Loss: 1.0711, Val Acc: 46.10%\n",
      "Validation loss decreased (1.125743 --> 1.071135). Saving model...\n"
     ]
    },
    {
     "name": "stderr",
     "output_type": "stream",
     "text": [
      "Fold 3 - Epoch 9/30: 100%|██████████| 819/819 [01:29<00:00,  9.10it/s, loss=1.09, accuracy=48.1] \n"
     ]
    },
    {
     "name": "stdout",
     "output_type": "stream",
     "text": [
      "\n",
      "Fold 3 - Epoch 9/30: Train Loss: 1.0858, Train Acc: 48.14%, Val Loss: 1.1759, Val Acc: 45.81%\n",
      "EarlyStopping counter: 1 out of 5\n"
     ]
    },
    {
     "name": "stderr",
     "output_type": "stream",
     "text": [
      "Fold 3 - Epoch 10/30: 100%|██████████| 819/819 [01:28<00:00,  9.28it/s, loss=1.06, accuracy=49.1] \n"
     ]
    },
    {
     "name": "stdout",
     "output_type": "stream",
     "text": [
      "\n",
      "Fold 3 - Epoch 10/30: Train Loss: 1.0594, Train Acc: 49.15%, Val Loss: 1.0339, Val Acc: 56.86%\n",
      "Validation loss decreased (1.071135 --> 1.033873). Saving model...\n"
     ]
    },
    {
     "name": "stderr",
     "output_type": "stream",
     "text": [
      "Fold 3 - Epoch 11/30: 100%|██████████| 819/819 [01:29<00:00,  9.17it/s, loss=0.956, accuracy=51.3]\n"
     ]
    },
    {
     "name": "stdout",
     "output_type": "stream",
     "text": [
      "\n",
      "Fold 3 - Epoch 11/30: Train Loss: 0.9560, Train Acc: 51.32%, Val Loss: 0.9301, Val Acc: 54.51%\n",
      "Validation loss decreased (1.033873 --> 0.930090). Saving model...\n"
     ]
    },
    {
     "name": "stderr",
     "output_type": "stream",
     "text": [
      "Fold 3 - Epoch 12/30: 100%|██████████| 819/819 [01:33<00:00,  8.73it/s, loss=0.927, accuracy=55.7]\n"
     ]
    },
    {
     "name": "stdout",
     "output_type": "stream",
     "text": [
      "\n",
      "Fold 3 - Epoch 12/30: Train Loss: 0.9269, Train Acc: 55.74%, Val Loss: 0.9065, Val Acc: 56.61%\n",
      "Validation loss decreased (0.930090 --> 0.906489). Saving model...\n"
     ]
    },
    {
     "name": "stderr",
     "output_type": "stream",
     "text": [
      "Fold 3 - Epoch 13/30: 100%|██████████| 819/819 [01:29<00:00,  9.17it/s, loss=0.89, accuracy=56.7] \n"
     ]
    },
    {
     "name": "stdout",
     "output_type": "stream",
     "text": [
      "\n",
      "Fold 3 - Epoch 13/30: Train Loss: 0.8904, Train Acc: 56.67%, Val Loss: 0.9021, Val Acc: 59.73%\n",
      "Validation loss decreased (0.906489 --> 0.902109). Saving model...\n"
     ]
    },
    {
     "name": "stderr",
     "output_type": "stream",
     "text": [
      "Fold 3 - Epoch 14/30: 100%|██████████| 819/819 [01:29<00:00,  9.15it/s, loss=0.897, accuracy=58]  \n"
     ]
    },
    {
     "name": "stdout",
     "output_type": "stream",
     "text": [
      "\n",
      "Fold 3 - Epoch 14/30: Train Loss: 0.8972, Train Acc: 57.99%, Val Loss: 0.8549, Val Acc: 59.91%\n",
      "Validation loss decreased (0.902109 --> 0.854923). Saving model...\n"
     ]
    },
    {
     "name": "stderr",
     "output_type": "stream",
     "text": [
      "Fold 3 - Epoch 15/30: 100%|██████████| 819/819 [01:29<00:00,  9.11it/s, loss=0.889, accuracy=59.4]\n"
     ]
    },
    {
     "name": "stdout",
     "output_type": "stream",
     "text": [
      "\n",
      "Fold 3 - Epoch 15/30: Train Loss: 0.8890, Train Acc: 59.40%, Val Loss: 0.8732, Val Acc: 59.72%\n",
      "EarlyStopping counter: 1 out of 5\n"
     ]
    },
    {
     "name": "stderr",
     "output_type": "stream",
     "text": [
      "Fold 3 - Epoch 16/30: 100%|██████████| 819/819 [01:29<00:00,  9.12it/s, loss=0.844, accuracy=61.2] \n"
     ]
    },
    {
     "name": "stdout",
     "output_type": "stream",
     "text": [
      "\n",
      "Fold 3 - Epoch 16/30: Train Loss: 0.8442, Train Acc: 61.24%, Val Loss: 0.8653, Val Acc: 60.40%\n",
      "EarlyStopping counter: 2 out of 5\n"
     ]
    },
    {
     "name": "stderr",
     "output_type": "stream",
     "text": [
      "Fold 3 - Epoch 17/30: 100%|██████████| 819/819 [01:29<00:00,  9.17it/s, loss=0.86, accuracy=61.1]  \n"
     ]
    },
    {
     "name": "stdout",
     "output_type": "stream",
     "text": [
      "\n",
      "Fold 3 - Epoch 17/30: Train Loss: 0.8602, Train Acc: 61.13%, Val Loss: 0.8733, Val Acc: 58.89%\n",
      "EarlyStopping counter: 3 out of 5\n"
     ]
    },
    {
     "name": "stderr",
     "output_type": "stream",
     "text": [
      "Fold 3 - Epoch 18/30: 100%|██████████| 819/819 [01:29<00:00,  9.13it/s, loss=0.846, accuracy=61.9]\n"
     ]
    },
    {
     "name": "stdout",
     "output_type": "stream",
     "text": [
      "\n",
      "Fold 3 - Epoch 18/30: Train Loss: 0.8462, Train Acc: 61.89%, Val Loss: 0.8297, Val Acc: 66.27%\n",
      "Validation loss decreased (0.854923 --> 0.829661). Saving model...\n"
     ]
    },
    {
     "name": "stderr",
     "output_type": "stream",
     "text": [
      "Fold 3 - Epoch 19/30: 100%|██████████| 819/819 [01:28<00:00,  9.28it/s, loss=0.803, accuracy=64.5] \n"
     ]
    },
    {
     "name": "stdout",
     "output_type": "stream",
     "text": [
      "\n",
      "Fold 3 - Epoch 19/30: Train Loss: 0.8028, Train Acc: 64.48%, Val Loss: 0.8028, Val Acc: 65.77%\n",
      "Validation loss decreased (0.829661 --> 0.802845). Saving model...\n"
     ]
    },
    {
     "name": "stderr",
     "output_type": "stream",
     "text": [
      "Fold 3 - Epoch 20/30: 100%|██████████| 819/819 [01:30<00:00,  9.06it/s, loss=0.822, accuracy=64.5] \n"
     ]
    },
    {
     "name": "stdout",
     "output_type": "stream",
     "text": [
      "\n",
      "Fold 3 - Epoch 20/30: Train Loss: 0.8222, Train Acc: 64.54%, Val Loss: 0.8285, Val Acc: 66.27%\n",
      "EarlyStopping counter: 1 out of 5\n"
     ]
    },
    {
     "name": "stderr",
     "output_type": "stream",
     "text": [
      "Fold 3 - Epoch 21/30: 100%|██████████| 819/819 [01:30<00:00,  9.08it/s, loss=0.807, accuracy=64.8] \n"
     ]
    },
    {
     "name": "stdout",
     "output_type": "stream",
     "text": [
      "\n",
      "Fold 3 - Epoch 21/30: Train Loss: 0.8071, Train Acc: 64.79%, Val Loss: 0.8061, Val Acc: 59.21%\n",
      "Validation loss decreased (0.802845 --> 0.806143). Saving model...\n"
     ]
    },
    {
     "name": "stderr",
     "output_type": "stream",
     "text": [
      "Fold 3 - Epoch 22/30: 100%|██████████| 819/819 [01:30<00:00,  9.08it/s, loss=0.784, accuracy=65.7] \n"
     ]
    },
    {
     "name": "stdout",
     "output_type": "stream",
     "text": [
      "\n",
      "Fold 3 - Epoch 22/30: Train Loss: 0.7838, Train Acc: 65.71%, Val Loss: 0.8030, Val Acc: 60.59%\n",
      "Validation loss decreased (0.806143 --> 0.803011). Saving model...\n"
     ]
    },
    {
     "name": "stderr",
     "output_type": "stream",
     "text": [
      "Fold 3 - Epoch 23/30: 100%|██████████| 819/819 [01:29<00:00,  9.16it/s, loss=0.772, accuracy=66.5] \n"
     ]
    },
    {
     "name": "stdout",
     "output_type": "stream",
     "text": [
      "\n",
      "Fold 3 - Epoch 23/30: Train Loss: 0.7724, Train Acc: 66.47%, Val Loss: 0.7558, Val Acc: 68.29%\n",
      "Validation loss decreased (0.803011 --> 0.755778). Saving model...\n"
     ]
    },
    {
     "name": "stderr",
     "output_type": "stream",
     "text": [
      "Fold 3 - Epoch 24/30: 100%|██████████| 819/819 [01:29<00:00,  9.11it/s, loss=0.758, accuracy=67.3] \n"
     ]
    },
    {
     "name": "stdout",
     "output_type": "stream",
     "text": [
      "\n",
      "Fold 3 - Epoch 24/30: Train Loss: 0.7577, Train Acc: 67.28%, Val Loss: 0.7884, Val Acc: 67.49%\n",
      "EarlyStopping counter: 1 out of 5\n"
     ]
    },
    {
     "name": "stderr",
     "output_type": "stream",
     "text": [
      "Fold 3 - Epoch 25/30: 100%|██████████| 819/819 [01:28<00:00,  9.21it/s, loss=0.76, accuracy=67.3]  \n"
     ]
    },
    {
     "name": "stdout",
     "output_type": "stream",
     "text": [
      "\n",
      "Fold 3 - Epoch 25/30: Train Loss: 0.7599, Train Acc: 67.28%, Val Loss: 0.7869, Val Acc: 64.45%\n",
      "EarlyStopping counter: 2 out of 5\n"
     ]
    },
    {
     "name": "stderr",
     "output_type": "stream",
     "text": [
      "Fold 3 - Epoch 26/30: 100%|██████████| 819/819 [01:30<00:00,  9.09it/s, loss=0.77, accuracy=67.6]  \n"
     ]
    },
    {
     "name": "stdout",
     "output_type": "stream",
     "text": [
      "\n",
      "Fold 3 - Epoch 26/30: Train Loss: 0.7699, Train Acc: 67.58%, Val Loss: 0.7715, Val Acc: 67.35%\n",
      "EarlyStopping counter: 3 out of 5\n"
     ]
    },
    {
     "name": "stderr",
     "output_type": "stream",
     "text": [
      "Fold 3 - Epoch 27/30: 100%|██████████| 819/819 [01:30<00:00,  9.08it/s, loss=0.749, accuracy=68.1] \n"
     ]
    },
    {
     "name": "stdout",
     "output_type": "stream",
     "text": [
      "\n",
      "Fold 3 - Epoch 27/30: Train Loss: 0.7489, Train Acc: 68.09%, Val Loss: 0.7429, Val Acc: 68.85%\n",
      "Validation loss decreased (0.755778 --> 0.742911). Saving model...\n"
     ]
    },
    {
     "name": "stderr",
     "output_type": "stream",
     "text": [
      "Fold 3 - Epoch 28/30: 100%|██████████| 819/819 [01:28<00:00,  9.24it/s, loss=0.764, accuracy=67.9]\n"
     ]
    },
    {
     "name": "stdout",
     "output_type": "stream",
     "text": [
      "\n",
      "Fold 3 - Epoch 28/30: Train Loss: 0.7644, Train Acc: 67.94%, Val Loss: 0.7756, Val Acc: 68.30%\n",
      "EarlyStopping counter: 1 out of 5\n"
     ]
    },
    {
     "name": "stderr",
     "output_type": "stream",
     "text": [
      "Fold 3 - Epoch 29/30: 100%|██████████| 819/819 [01:29<00:00,  9.11it/s, loss=0.75, accuracy=68.1]  \n"
     ]
    },
    {
     "name": "stdout",
     "output_type": "stream",
     "text": [
      "\n",
      "Fold 3 - Epoch 29/30: Train Loss: 0.7495, Train Acc: 68.12%, Val Loss: 0.7770, Val Acc: 66.12%\n",
      "EarlyStopping counter: 2 out of 5\n"
     ]
    },
    {
     "name": "stderr",
     "output_type": "stream",
     "text": [
      "Fold 3 - Epoch 30/30: 100%|██████████| 819/819 [01:29<00:00,  9.14it/s, loss=0.75, accuracy=67.8]  \n"
     ]
    },
    {
     "name": "stdout",
     "output_type": "stream",
     "text": [
      "\n",
      "Fold 3 - Epoch 30/30: Train Loss: 0.7497, Train Acc: 67.84%, Val Loss: 0.7660, Val Acc: 66.42%\n",
      "EarlyStopping counter: 3 out of 5\n"
     ]
    },
    {
     "name": "stderr",
     "output_type": "stream",
     "text": [
      "Evaluating Fold 3: 100%|██████████| 205/205 [00:21<00:00,  9.58it/s]\n"
     ]
    },
    {
     "name": "stdout",
     "output_type": "stream",
     "text": [
      "Accuracy: 68.00%\n",
      "\n",
      "Classification Report:\n",
      "               precision    recall  f1-score   support\n",
      "\n",
      "Early_Spiral     0.1691    0.6231    0.2660       130\n",
      "  Elliptical     0.1130    0.7526    0.1965        97\n",
      "   Irregular     0.9830    0.6713    0.7978      5778\n",
      " Late_Spiral     0.4350    0.8642    0.5787       383\n",
      "  Lenticular     0.1218    0.5506    0.1995       158\n",
      "\n",
      "    accuracy                         0.6800      6546\n",
      "   macro avg     0.3644    0.6924    0.4077      6546\n",
      "weighted avg     0.9011    0.6800    0.7511      6546\n",
      "\n",
      "\n",
      "==================== Fold 4/5 ====================\n"
     ]
    },
    {
     "name": "stderr",
     "output_type": "stream",
     "text": [
      "c:\\Users\\Aseem\\AppData\\Local\\Programs\\Python\\Python312\\Lib\\site-packages\\torch\\optim\\lr_scheduler.py:62: UserWarning: The verbose parameter is deprecated. Please use get_last_lr() to access the learning rate.\n",
      "  warnings.warn(\n",
      "Fold 4 - Epoch 1/30: 100%|██████████| 819/819 [01:29<00:00,  9.17it/s, loss=1.49, accuracy=36.1] \n"
     ]
    },
    {
     "name": "stdout",
     "output_type": "stream",
     "text": [
      "\n",
      "Fold 4 - Epoch 1/30: Train Loss: 1.4858, Train Acc: 36.14%, Val Loss: 1.3815, Val Acc: 41.35%\n",
      "Validation loss decreased (inf --> 1.381542). Saving model...\n"
     ]
    },
    {
     "name": "stderr",
     "output_type": "stream",
     "text": [
      "Fold 4 - Epoch 2/30: 100%|██████████| 819/819 [01:29<00:00,  9.17it/s, loss=1.4, accuracy=41.8]  \n"
     ]
    },
    {
     "name": "stdout",
     "output_type": "stream",
     "text": [
      "\n",
      "Fold 4 - Epoch 2/30: Train Loss: 1.4032, Train Acc: 41.85%, Val Loss: 1.7594, Val Acc: 44.38%\n",
      "EarlyStopping counter: 1 out of 5\n"
     ]
    },
    {
     "name": "stderr",
     "output_type": "stream",
     "text": [
      "Fold 4 - Epoch 3/30: 100%|██████████| 819/819 [01:29<00:00,  9.10it/s, loss=1.32, accuracy=42.7] \n"
     ]
    },
    {
     "name": "stdout",
     "output_type": "stream",
     "text": [
      "\n",
      "Fold 4 - Epoch 3/30: Train Loss: 1.3240, Train Acc: 42.73%, Val Loss: 1.3590, Val Acc: 73.39%\n",
      "Validation loss decreased (1.381542 --> 1.358961). Saving model...\n"
     ]
    },
    {
     "name": "stderr",
     "output_type": "stream",
     "text": [
      "Fold 4 - Epoch 4/30: 100%|██████████| 819/819 [01:28<00:00,  9.21it/s, loss=1.26, accuracy=40.6] \n"
     ]
    },
    {
     "name": "stdout",
     "output_type": "stream",
     "text": [
      "\n",
      "Fold 4 - Epoch 4/30: Train Loss: 1.2581, Train Acc: 40.61%, Val Loss: 1.2147, Val Acc: 56.57%\n",
      "Validation loss decreased (1.358961 --> 1.214735). Saving model...\n"
     ]
    },
    {
     "name": "stderr",
     "output_type": "stream",
     "text": [
      "Fold 4 - Epoch 5/30: 100%|██████████| 819/819 [01:29<00:00,  9.10it/s, loss=1.23, accuracy=42.6] \n"
     ]
    },
    {
     "name": "stdout",
     "output_type": "stream",
     "text": [
      "\n",
      "Fold 4 - Epoch 5/30: Train Loss: 1.2250, Train Acc: 42.64%, Val Loss: 1.1680, Val Acc: 32.29%\n",
      "Validation loss decreased (1.214735 --> 1.168027). Saving model...\n"
     ]
    },
    {
     "name": "stderr",
     "output_type": "stream",
     "text": [
      "Fold 4 - Epoch 6/30: 100%|██████████| 819/819 [01:28<00:00,  9.24it/s, loss=1.19, accuracy=43.3] \n"
     ]
    },
    {
     "name": "stdout",
     "output_type": "stream",
     "text": [
      "\n",
      "Fold 4 - Epoch 6/30: Train Loss: 1.1933, Train Acc: 43.30%, Val Loss: 1.2118, Val Acc: 43.86%\n",
      "EarlyStopping counter: 1 out of 5\n"
     ]
    },
    {
     "name": "stderr",
     "output_type": "stream",
     "text": [
      "Fold 4 - Epoch 7/30: 100%|██████████| 819/819 [01:29<00:00,  9.15it/s, loss=1.15, accuracy=46.3] \n"
     ]
    },
    {
     "name": "stdout",
     "output_type": "stream",
     "text": [
      "\n",
      "Fold 4 - Epoch 7/30: Train Loss: 1.1546, Train Acc: 46.27%, Val Loss: 1.0990, Val Acc: 44.32%\n",
      "Validation loss decreased (1.168027 --> 1.099009). Saving model...\n"
     ]
    },
    {
     "name": "stderr",
     "output_type": "stream",
     "text": [
      "Fold 4 - Epoch 8/30: 100%|██████████| 819/819 [01:29<00:00,  9.17it/s, loss=1.07, accuracy=45.3] \n"
     ]
    },
    {
     "name": "stdout",
     "output_type": "stream",
     "text": [
      "\n",
      "Fold 4 - Epoch 8/30: Train Loss: 1.0655, Train Acc: 45.34%, Val Loss: 1.0014, Val Acc: 47.11%\n",
      "Validation loss decreased (1.099009 --> 1.001387). Saving model...\n"
     ]
    },
    {
     "name": "stderr",
     "output_type": "stream",
     "text": [
      "Fold 4 - Epoch 9/30: 100%|██████████| 819/819 [01:29<00:00,  9.18it/s, loss=1.03, accuracy=47.4] \n"
     ]
    },
    {
     "name": "stdout",
     "output_type": "stream",
     "text": [
      "\n",
      "Fold 4 - Epoch 9/30: Train Loss: 1.0321, Train Acc: 47.43%, Val Loss: 0.9853, Val Acc: 48.32%\n",
      "Validation loss decreased (1.001387 --> 0.985288). Saving model...\n"
     ]
    },
    {
     "name": "stderr",
     "output_type": "stream",
     "text": [
      "Fold 4 - Epoch 10/30: 100%|██████████| 819/819 [01:29<00:00,  9.14it/s, loss=0.996, accuracy=48.1]\n"
     ]
    },
    {
     "name": "stdout",
     "output_type": "stream",
     "text": [
      "\n",
      "Fold 4 - Epoch 10/30: Train Loss: 0.9957, Train Acc: 48.06%, Val Loss: 0.9749, Val Acc: 50.79%\n",
      "Validation loss decreased (0.985288 --> 0.974935). Saving model...\n"
     ]
    },
    {
     "name": "stderr",
     "output_type": "stream",
     "text": [
      "Fold 4 - Epoch 11/30: 100%|██████████| 819/819 [01:29<00:00,  9.14it/s, loss=0.989, accuracy=48.4]\n"
     ]
    },
    {
     "name": "stdout",
     "output_type": "stream",
     "text": [
      "\n",
      "Fold 4 - Epoch 11/30: Train Loss: 0.9891, Train Acc: 48.36%, Val Loss: 0.9640, Val Acc: 47.49%\n",
      "Validation loss decreased (0.974935 --> 0.963959). Saving model...\n"
     ]
    },
    {
     "name": "stderr",
     "output_type": "stream",
     "text": [
      "Fold 4 - Epoch 12/30: 100%|██████████| 819/819 [01:29<00:00,  9.18it/s, loss=0.973, accuracy=48.7]\n"
     ]
    },
    {
     "name": "stdout",
     "output_type": "stream",
     "text": [
      "\n",
      "Fold 4 - Epoch 12/30: Train Loss: 0.9730, Train Acc: 48.74%, Val Loss: 0.9397, Val Acc: 48.61%\n",
      "Validation loss decreased (0.963959 --> 0.939673). Saving model...\n"
     ]
    },
    {
     "name": "stderr",
     "output_type": "stream",
     "text": [
      "Fold 4 - Epoch 13/30: 100%|██████████| 819/819 [01:29<00:00,  9.17it/s, loss=0.974, accuracy=49.1]\n"
     ]
    },
    {
     "name": "stdout",
     "output_type": "stream",
     "text": [
      "\n",
      "Fold 4 - Epoch 13/30: Train Loss: 0.9744, Train Acc: 49.09%, Val Loss: 0.9654, Val Acc: 49.76%\n",
      "EarlyStopping counter: 1 out of 5\n"
     ]
    },
    {
     "name": "stderr",
     "output_type": "stream",
     "text": [
      "Fold 4 - Epoch 14/30: 100%|██████████| 819/819 [01:29<00:00,  9.15it/s, loss=0.962, accuracy=50]   \n"
     ]
    },
    {
     "name": "stdout",
     "output_type": "stream",
     "text": [
      "\n",
      "Fold 4 - Epoch 14/30: Train Loss: 0.9618, Train Acc: 50.05%, Val Loss: 0.9157, Val Acc: 52.80%\n",
      "Validation loss decreased (0.939673 --> 0.915716). Saving model...\n"
     ]
    },
    {
     "name": "stderr",
     "output_type": "stream",
     "text": [
      "Fold 4 - Epoch 15/30: 100%|██████████| 819/819 [01:29<00:00,  9.13it/s, loss=0.97, accuracy=50.5]  \n"
     ]
    },
    {
     "name": "stdout",
     "output_type": "stream",
     "text": [
      "\n",
      "Fold 4 - Epoch 15/30: Train Loss: 0.9701, Train Acc: 50.46%, Val Loss: 0.9343, Val Acc: 48.49%\n",
      "EarlyStopping counter: 1 out of 5\n"
     ]
    },
    {
     "name": "stderr",
     "output_type": "stream",
     "text": [
      "Fold 4 - Epoch 16/30: 100%|██████████| 819/819 [01:29<00:00,  9.19it/s, loss=0.966, accuracy=49.5]\n"
     ]
    },
    {
     "name": "stdout",
     "output_type": "stream",
     "text": [
      "\n",
      "Fold 4 - Epoch 16/30: Train Loss: 0.9661, Train Acc: 49.45%, Val Loss: 0.9518, Val Acc: 49.77%\n",
      "EarlyStopping counter: 2 out of 5\n"
     ]
    },
    {
     "name": "stderr",
     "output_type": "stream",
     "text": [
      "Fold 4 - Epoch 17/30: 100%|██████████| 819/819 [01:28<00:00,  9.22it/s, loss=0.957, accuracy=49.7]\n"
     ]
    },
    {
     "name": "stdout",
     "output_type": "stream",
     "text": [
      "\n",
      "Fold 4 - Epoch 17/30: Train Loss: 0.9569, Train Acc: 49.66%, Val Loss: 0.9343, Val Acc: 50.89%\n",
      "EarlyStopping counter: 3 out of 5\n"
     ]
    },
    {
     "name": "stderr",
     "output_type": "stream",
     "text": [
      "Fold 4 - Epoch 18/30: 100%|██████████| 819/819 [01:30<00:00,  9.09it/s, loss=0.95, accuracy=50]   \n"
     ]
    },
    {
     "name": "stdout",
     "output_type": "stream",
     "text": [
      "\n",
      "Fold 4 - Epoch 18/30: Train Loss: 0.9498, Train Acc: 49.96%, Val Loss: 0.9210, Val Acc: 50.50%\n",
      "Validation loss decreased (0.915716 --> 0.920980). Saving model...\n"
     ]
    },
    {
     "name": "stderr",
     "output_type": "stream",
     "text": [
      "Fold 4 - Epoch 19/30: 100%|██████████| 819/819 [01:28<00:00,  9.23it/s, loss=0.968, accuracy=49.9]\n"
     ]
    },
    {
     "name": "stdout",
     "output_type": "stream",
     "text": [
      "\n",
      "Fold 4 - Epoch 19/30: Train Loss: 0.9683, Train Acc: 49.91%, Val Loss: 0.9464, Val Acc: 50.75%\n",
      "EarlyStopping counter: 1 out of 5\n"
     ]
    },
    {
     "name": "stderr",
     "output_type": "stream",
     "text": [
      "Fold 4 - Epoch 20/30: 100%|██████████| 819/819 [01:30<00:00,  9.10it/s, loss=0.967, accuracy=49.6]\n"
     ]
    },
    {
     "name": "stdout",
     "output_type": "stream",
     "text": [
      "\n",
      "Fold 4 - Epoch 20/30: Train Loss: 0.9669, Train Acc: 49.62%, Val Loss: 0.9459, Val Acc: 49.39%\n",
      "EarlyStopping counter: 2 out of 5\n"
     ]
    },
    {
     "name": "stderr",
     "output_type": "stream",
     "text": [
      "Fold 4 - Epoch 21/30: 100%|██████████| 819/819 [01:29<00:00,  9.15it/s, loss=0.972, accuracy=49.9]\n"
     ]
    },
    {
     "name": "stdout",
     "output_type": "stream",
     "text": [
      "\n",
      "Fold 4 - Epoch 21/30: Train Loss: 0.9723, Train Acc: 49.88%, Val Loss: 0.9338, Val Acc: 51.05%\n",
      "EarlyStopping counter: 3 out of 5\n"
     ]
    },
    {
     "name": "stderr",
     "output_type": "stream",
     "text": [
      "Fold 4 - Epoch 22/30: 100%|██████████| 819/819 [01:29<00:00,  9.12it/s, loss=0.962, accuracy=49.8]\n"
     ]
    },
    {
     "name": "stdout",
     "output_type": "stream",
     "text": [
      "\n",
      "Fold 4 - Epoch 22/30: Train Loss: 0.9623, Train Acc: 49.81%, Val Loss: 0.9335, Val Acc: 50.72%\n",
      "EarlyStopping counter: 4 out of 5\n"
     ]
    },
    {
     "name": "stderr",
     "output_type": "stream",
     "text": [
      "Fold 4 - Epoch 23/30: 100%|██████████| 819/819 [01:28<00:00,  9.24it/s, loss=0.965, accuracy=49.7] \n"
     ]
    },
    {
     "name": "stdout",
     "output_type": "stream",
     "text": [
      "\n",
      "Fold 4 - Epoch 23/30: Train Loss: 0.9651, Train Acc: 49.72%, Val Loss: 0.9186, Val Acc: 51.44%\n",
      "Validation loss decreased (0.920980 --> 0.918622). Saving model...\n"
     ]
    },
    {
     "name": "stderr",
     "output_type": "stream",
     "text": [
      "Fold 4 - Epoch 24/30: 100%|██████████| 819/819 [01:29<00:00,  9.15it/s, loss=0.945, accuracy=49.3]\n"
     ]
    },
    {
     "name": "stdout",
     "output_type": "stream",
     "text": [
      "\n",
      "Fold 4 - Epoch 24/30: Train Loss: 0.9454, Train Acc: 49.32%, Val Loss: 0.9372, Val Acc: 48.99%\n",
      "EarlyStopping counter: 1 out of 5\n"
     ]
    },
    {
     "name": "stderr",
     "output_type": "stream",
     "text": [
      "Fold 4 - Epoch 25/30: 100%|██████████| 819/819 [01:29<00:00,  9.15it/s, loss=0.96, accuracy=49.9] \n"
     ]
    },
    {
     "name": "stdout",
     "output_type": "stream",
     "text": [
      "\n",
      "Fold 4 - Epoch 25/30: Train Loss: 0.9603, Train Acc: 49.88%, Val Loss: 0.9572, Val Acc: 47.95%\n",
      "EarlyStopping counter: 2 out of 5\n"
     ]
    },
    {
     "name": "stderr",
     "output_type": "stream",
     "text": [
      "Fold 4 - Epoch 26/30: 100%|██████████| 819/819 [01:29<00:00,  9.16it/s, loss=0.953, accuracy=50.1]\n"
     ]
    },
    {
     "name": "stdout",
     "output_type": "stream",
     "text": [
      "\n",
      "Fold 4 - Epoch 26/30: Train Loss: 0.9534, Train Acc: 50.07%, Val Loss: 0.9130, Val Acc: 49.42%\n",
      "Validation loss decreased (0.918622 --> 0.913012). Saving model...\n"
     ]
    },
    {
     "name": "stderr",
     "output_type": "stream",
     "text": [
      "Fold 4 - Epoch 27/30: 100%|██████████| 819/819 [01:29<00:00,  9.13it/s, loss=0.95, accuracy=49.8] \n"
     ]
    },
    {
     "name": "stdout",
     "output_type": "stream",
     "text": [
      "\n",
      "Fold 4 - Epoch 27/30: Train Loss: 0.9501, Train Acc: 49.75%, Val Loss: 0.9301, Val Acc: 50.34%\n",
      "EarlyStopping counter: 1 out of 5\n"
     ]
    },
    {
     "name": "stderr",
     "output_type": "stream",
     "text": [
      "Fold 4 - Epoch 28/30: 100%|██████████| 819/819 [01:28<00:00,  9.20it/s, loss=0.945, accuracy=50.1] \n"
     ]
    },
    {
     "name": "stdout",
     "output_type": "stream",
     "text": [
      "\n",
      "Fold 4 - Epoch 28/30: Train Loss: 0.9447, Train Acc: 50.07%, Val Loss: 0.9299, Val Acc: 51.25%\n",
      "EarlyStopping counter: 2 out of 5\n"
     ]
    },
    {
     "name": "stderr",
     "output_type": "stream",
     "text": [
      "Fold 4 - Epoch 29/30: 100%|██████████| 819/819 [01:30<00:00,  9.07it/s, loss=0.964, accuracy=49.9] \n"
     ]
    },
    {
     "name": "stdout",
     "output_type": "stream",
     "text": [
      "\n",
      "Fold 4 - Epoch 29/30: Train Loss: 0.9642, Train Acc: 49.93%, Val Loss: 0.9283, Val Acc: 49.36%\n",
      "EarlyStopping counter: 3 out of 5\n"
     ]
    },
    {
     "name": "stderr",
     "output_type": "stream",
     "text": [
      "Fold 4 - Epoch 30/30: 100%|██████████| 819/819 [01:29<00:00,  9.18it/s, loss=0.957, accuracy=50.1]\n"
     ]
    },
    {
     "name": "stdout",
     "output_type": "stream",
     "text": [
      "\n",
      "Fold 4 - Epoch 30/30: Train Loss: 0.9566, Train Acc: 50.05%, Val Loss: 0.9329, Val Acc: 50.17%\n",
      "EarlyStopping counter: 4 out of 5\n"
     ]
    },
    {
     "name": "stderr",
     "output_type": "stream",
     "text": [
      "Evaluating Fold 4: 100%|██████████| 205/205 [00:21<00:00,  9.62it/s]\n"
     ]
    },
    {
     "name": "stdout",
     "output_type": "stream",
     "text": [
      "Accuracy: 48.63%\n",
      "\n",
      "Classification Report:\n",
      "               precision    recall  f1-score   support\n",
      "\n",
      "Early_Spiral     0.1085    0.6406    0.1855       128\n",
      "  Elliptical     0.0816    0.6731    0.1455       104\n",
      "   Irregular     0.9635    0.4542    0.6174      5748\n",
      " Late_Spiral     0.2495    0.8278    0.3834       418\n",
      "  Lenticular     0.0886    0.5000    0.1506       148\n",
      "\n",
      "    accuracy                         0.4863      6546\n",
      "   macro avg     0.2983    0.6191    0.2965      6546\n",
      "weighted avg     0.8674    0.4863    0.5760      6546\n",
      "\n",
      "\n",
      "==================== Fold 5/5 ====================\n"
     ]
    },
    {
     "name": "stderr",
     "output_type": "stream",
     "text": [
      "c:\\Users\\Aseem\\AppData\\Local\\Programs\\Python\\Python312\\Lib\\site-packages\\torch\\optim\\lr_scheduler.py:62: UserWarning: The verbose parameter is deprecated. Please use get_last_lr() to access the learning rate.\n",
      "  warnings.warn(\n",
      "Fold 5 - Epoch 1/30: 100%|██████████| 819/819 [01:29<00:00,  9.10it/s, loss=1.51, accuracy=42.5] \n"
     ]
    },
    {
     "name": "stdout",
     "output_type": "stream",
     "text": [
      "\n",
      "Fold 5 - Epoch 1/30: Train Loss: 1.5090, Train Acc: 42.46%, Val Loss: 1.4358, Val Acc: 59.59%\n",
      "Validation loss decreased (inf --> 1.435769). Saving model...\n"
     ]
    },
    {
     "name": "stderr",
     "output_type": "stream",
     "text": [
      "Fold 5 - Epoch 2/30: 100%|██████████| 819/819 [01:28<00:00,  9.23it/s, loss=1.35, accuracy=37.3] \n"
     ]
    },
    {
     "name": "stdout",
     "output_type": "stream",
     "text": [
      "\n",
      "Fold 5 - Epoch 2/30: Train Loss: 1.3482, Train Acc: 37.33%, Val Loss: 1.3933, Val Acc: 44.64%\n",
      "Validation loss decreased (1.435769 --> 1.393328). Saving model...\n"
     ]
    },
    {
     "name": "stderr",
     "output_type": "stream",
     "text": [
      "Fold 5 - Epoch 3/30: 100%|██████████| 819/819 [01:29<00:00,  9.11it/s, loss=1.29, accuracy=43.5] \n"
     ]
    },
    {
     "name": "stdout",
     "output_type": "stream",
     "text": [
      "\n",
      "Fold 5 - Epoch 3/30: Train Loss: 1.2866, Train Acc: 43.54%, Val Loss: 1.3966, Val Acc: 52.92%\n",
      "Validation loss decreased (1.393328 --> 1.396577). Saving model...\n"
     ]
    },
    {
     "name": "stderr",
     "output_type": "stream",
     "text": [
      "Fold 5 - Epoch 4/30: 100%|██████████| 819/819 [01:29<00:00,  9.19it/s, loss=1.23, accuracy=46.6] \n"
     ]
    },
    {
     "name": "stdout",
     "output_type": "stream",
     "text": [
      "\n",
      "Fold 5 - Epoch 4/30: Train Loss: 1.2258, Train Acc: 46.57%, Val Loss: 1.1755, Val Acc: 43.49%\n",
      "Validation loss decreased (1.396577 --> 1.175503). Saving model...\n"
     ]
    },
    {
     "name": "stderr",
     "output_type": "stream",
     "text": [
      "Fold 5 - Epoch 5/30: 100%|██████████| 819/819 [01:29<00:00,  9.13it/s, loss=1.19, accuracy=47.5] \n"
     ]
    },
    {
     "name": "stdout",
     "output_type": "stream",
     "text": [
      "\n",
      "Fold 5 - Epoch 5/30: Train Loss: 1.1935, Train Acc: 47.50%, Val Loss: 1.2166, Val Acc: 44.97%\n",
      "EarlyStopping counter: 1 out of 5\n"
     ]
    },
    {
     "name": "stderr",
     "output_type": "stream",
     "text": [
      "Fold 5 - Epoch 6/30: 100%|██████████| 819/819 [01:28<00:00,  9.23it/s, loss=1.08, accuracy=50.5] \n"
     ]
    },
    {
     "name": "stdout",
     "output_type": "stream",
     "text": [
      "\n",
      "Fold 5 - Epoch 6/30: Train Loss: 1.0761, Train Acc: 50.47%, Val Loss: 1.0057, Val Acc: 49.86%\n",
      "Validation loss decreased (1.175503 --> 1.005739). Saving model...\n"
     ]
    },
    {
     "name": "stderr",
     "output_type": "stream",
     "text": [
      "Fold 5 - Epoch 7/30: 100%|██████████| 819/819 [01:29<00:00,  9.12it/s, loss=1.05, accuracy=49.4] \n"
     ]
    },
    {
     "name": "stdout",
     "output_type": "stream",
     "text": [
      "\n",
      "Fold 5 - Epoch 7/30: Train Loss: 1.0492, Train Acc: 49.40%, Val Loss: 0.9848, Val Acc: 51.02%\n",
      "Validation loss decreased (1.005739 --> 0.984834). Saving model...\n"
     ]
    },
    {
     "name": "stderr",
     "output_type": "stream",
     "text": [
      "Fold 5 - Epoch 8/30: 100%|██████████| 819/819 [01:28<00:00,  9.21it/s, loss=1.01, accuracy=49.5]  \n"
     ]
    },
    {
     "name": "stdout",
     "output_type": "stream",
     "text": [
      "\n",
      "Fold 5 - Epoch 8/30: Train Loss: 1.0116, Train Acc: 49.55%, Val Loss: 0.9744, Val Acc: 53.51%\n",
      "Validation loss decreased (0.984834 --> 0.974390). Saving model...\n"
     ]
    },
    {
     "name": "stderr",
     "output_type": "stream",
     "text": [
      "Fold 5 - Epoch 9/30: 100%|██████████| 819/819 [01:29<00:00,  9.17it/s, loss=1, accuracy=49.3]    \n"
     ]
    },
    {
     "name": "stdout",
     "output_type": "stream",
     "text": [
      "\n",
      "Fold 5 - Epoch 9/30: Train Loss: 1.0009, Train Acc: 49.31%, Val Loss: 0.9649, Val Acc: 47.83%\n",
      "Validation loss decreased (0.974390 --> 0.964911). Saving model...\n"
     ]
    },
    {
     "name": "stderr",
     "output_type": "stream",
     "text": [
      "Fold 5 - Epoch 10/30: 100%|██████████| 819/819 [01:28<00:00,  9.20it/s, loss=0.985, accuracy=49.8]\n"
     ]
    },
    {
     "name": "stdout",
     "output_type": "stream",
     "text": [
      "\n",
      "Fold 5 - Epoch 10/30: Train Loss: 0.9852, Train Acc: 49.76%, Val Loss: 0.9660, Val Acc: 51.12%\n",
      "Validation loss decreased (0.964911 --> 0.965983). Saving model...\n"
     ]
    },
    {
     "name": "stderr",
     "output_type": "stream",
     "text": [
      "Fold 5 - Epoch 11/30: 100%|██████████| 819/819 [01:29<00:00,  9.13it/s, loss=0.964, accuracy=50.7] \n"
     ]
    },
    {
     "name": "stdout",
     "output_type": "stream",
     "text": [
      "\n",
      "Fold 5 - Epoch 11/30: Train Loss: 0.9640, Train Acc: 50.69%, Val Loss: 0.9447, Val Acc: 52.08%\n",
      "Validation loss decreased (0.965983 --> 0.944653). Saving model...\n"
     ]
    },
    {
     "name": "stderr",
     "output_type": "stream",
     "text": [
      "Fold 5 - Epoch 12/30: 100%|██████████| 819/819 [01:29<00:00,  9.17it/s, loss=0.962, accuracy=51]   \n"
     ]
    },
    {
     "name": "stdout",
     "output_type": "stream",
     "text": [
      "\n",
      "Fold 5 - Epoch 12/30: Train Loss: 0.9622, Train Acc: 50.96%, Val Loss: 0.9855, Val Acc: 51.21%\n",
      "EarlyStopping counter: 1 out of 5\n"
     ]
    },
    {
     "name": "stderr",
     "output_type": "stream",
     "text": [
      "Fold 5 - Epoch 13/30: 100%|██████████| 819/819 [01:28<00:00,  9.27it/s, loss=0.951, accuracy=50.8]\n"
     ]
    },
    {
     "name": "stdout",
     "output_type": "stream",
     "text": [
      "\n",
      "Fold 5 - Epoch 13/30: Train Loss: 0.9506, Train Acc: 50.79%, Val Loss: 0.9726, Val Acc: 50.43%\n",
      "EarlyStopping counter: 2 out of 5\n"
     ]
    },
    {
     "name": "stderr",
     "output_type": "stream",
     "text": [
      "Fold 5 - Epoch 14/30: 100%|██████████| 819/819 [01:29<00:00,  9.14it/s, loss=0.951, accuracy=51.5]\n"
     ]
    },
    {
     "name": "stdout",
     "output_type": "stream",
     "text": [
      "\n",
      "Fold 5 - Epoch 14/30: Train Loss: 0.9512, Train Acc: 51.51%, Val Loss: 0.9311, Val Acc: 53.93%\n",
      "Validation loss decreased (0.944653 --> 0.931058). Saving model...\n"
     ]
    },
    {
     "name": "stderr",
     "output_type": "stream",
     "text": [
      "Fold 5 - Epoch 15/30: 100%|██████████| 819/819 [01:28<00:00,  9.22it/s, loss=0.956, accuracy=51.2] \n"
     ]
    },
    {
     "name": "stdout",
     "output_type": "stream",
     "text": [
      "\n",
      "Fold 5 - Epoch 15/30: Train Loss: 0.9560, Train Acc: 51.18%, Val Loss: 0.9493, Val Acc: 51.82%\n",
      "EarlyStopping counter: 1 out of 5\n"
     ]
    },
    {
     "name": "stderr",
     "output_type": "stream",
     "text": [
      "Fold 5 - Epoch 16/30: 100%|██████████| 819/819 [01:29<00:00,  9.17it/s, loss=0.959, accuracy=51.5]\n"
     ]
    },
    {
     "name": "stdout",
     "output_type": "stream",
     "text": [
      "\n",
      "Fold 5 - Epoch 16/30: Train Loss: 0.9590, Train Acc: 51.50%, Val Loss: 0.9438, Val Acc: 50.81%\n",
      "EarlyStopping counter: 2 out of 5\n"
     ]
    },
    {
     "name": "stderr",
     "output_type": "stream",
     "text": [
      "Fold 5 - Epoch 17/30: 100%|██████████| 819/819 [01:28<00:00,  9.21it/s, loss=0.969, accuracy=51.1]\n"
     ]
    },
    {
     "name": "stdout",
     "output_type": "stream",
     "text": [
      "\n",
      "Fold 5 - Epoch 17/30: Train Loss: 0.9685, Train Acc: 51.15%, Val Loss: 0.9625, Val Acc: 52.20%\n",
      "EarlyStopping counter: 3 out of 5\n"
     ]
    },
    {
     "name": "stderr",
     "output_type": "stream",
     "text": [
      "Fold 5 - Epoch 18/30: 100%|██████████| 819/819 [01:29<00:00,  9.12it/s, loss=0.958, accuracy=51.5] \n"
     ]
    },
    {
     "name": "stdout",
     "output_type": "stream",
     "text": [
      "\n",
      "Fold 5 - Epoch 18/30: Train Loss: 0.9581, Train Acc: 51.50%, Val Loss: 0.9371, Val Acc: 50.84%\n",
      "Validation loss decreased (0.931058 --> 0.937088). Saving model...\n"
     ]
    },
    {
     "name": "stderr",
     "output_type": "stream",
     "text": [
      "Fold 5 - Epoch 19/30: 100%|██████████| 819/819 [01:29<00:00,  9.14it/s, loss=0.965, accuracy=51.3]\n"
     ]
    },
    {
     "name": "stdout",
     "output_type": "stream",
     "text": [
      "\n",
      "Fold 5 - Epoch 19/30: Train Loss: 0.9648, Train Acc: 51.34%, Val Loss: 0.9386, Val Acc: 52.15%\n",
      "Validation loss decreased (0.937088 --> 0.938590). Saving model...\n"
     ]
    },
    {
     "name": "stderr",
     "output_type": "stream",
     "text": [
      "Fold 5 - Epoch 20/30: 100%|██████████| 819/819 [01:29<00:00,  9.18it/s, loss=0.959, accuracy=51.5]\n"
     ]
    },
    {
     "name": "stdout",
     "output_type": "stream",
     "text": [
      "\n",
      "Fold 5 - Epoch 20/30: Train Loss: 0.9591, Train Acc: 51.48%, Val Loss: 0.9027, Val Acc: 52.08%\n",
      "Validation loss decreased (0.938590 --> 0.902694). Saving model...\n"
     ]
    },
    {
     "name": "stderr",
     "output_type": "stream",
     "text": [
      "Fold 5 - Epoch 21/30: 100%|██████████| 819/819 [01:29<00:00,  9.15it/s, loss=0.951, accuracy=51.8] \n"
     ]
    },
    {
     "name": "stdout",
     "output_type": "stream",
     "text": [
      "\n",
      "Fold 5 - Epoch 21/30: Train Loss: 0.9510, Train Acc: 51.79%, Val Loss: 0.9559, Val Acc: 52.49%\n",
      "EarlyStopping counter: 1 out of 5\n"
     ]
    },
    {
     "name": "stderr",
     "output_type": "stream",
     "text": [
      "Fold 5 - Epoch 22/30: 100%|██████████| 819/819 [01:28<00:00,  9.23it/s, loss=0.967, accuracy=51.8]\n"
     ]
    },
    {
     "name": "stdout",
     "output_type": "stream",
     "text": [
      "\n",
      "Fold 5 - Epoch 22/30: Train Loss: 0.9674, Train Acc: 51.84%, Val Loss: 0.9867, Val Acc: 51.21%\n",
      "EarlyStopping counter: 2 out of 5\n"
     ]
    },
    {
     "name": "stderr",
     "output_type": "stream",
     "text": [
      "Fold 5 - Epoch 23/30: 100%|██████████| 819/819 [01:29<00:00,  9.16it/s, loss=0.97, accuracy=51]   \n"
     ]
    },
    {
     "name": "stdout",
     "output_type": "stream",
     "text": [
      "\n",
      "Fold 5 - Epoch 23/30: Train Loss: 0.9697, Train Acc: 51.04%, Val Loss: 0.9429, Val Acc: 51.39%\n",
      "EarlyStopping counter: 3 out of 5\n"
     ]
    },
    {
     "name": "stderr",
     "output_type": "stream",
     "text": [
      "Fold 5 - Epoch 24/30: 100%|██████████| 819/819 [01:29<00:00,  9.18it/s, loss=0.957, accuracy=51.7]\n"
     ]
    },
    {
     "name": "stdout",
     "output_type": "stream",
     "text": [
      "\n",
      "Fold 5 - Epoch 24/30: Train Loss: 0.9571, Train Acc: 51.66%, Val Loss: 0.9040, Val Acc: 52.83%\n",
      "Validation loss decreased (0.902694 --> 0.904047). Saving model...\n"
     ]
    },
    {
     "name": "stderr",
     "output_type": "stream",
     "text": [
      "Fold 5 - Epoch 25/30: 100%|██████████| 819/819 [01:52<00:00,  7.31it/s, loss=0.955, accuracy=51.6]\n"
     ]
    },
    {
     "name": "stdout",
     "output_type": "stream",
     "text": [
      "\n",
      "Fold 5 - Epoch 25/30: Train Loss: 0.9549, Train Acc: 51.55%, Val Loss: 0.9731, Val Acc: 51.96%\n",
      "EarlyStopping counter: 1 out of 5\n"
     ]
    },
    {
     "name": "stderr",
     "output_type": "stream",
     "text": [
      "Fold 5 - Epoch 26/30: 100%|██████████| 819/819 [01:43<00:00,  7.89it/s, loss=0.968, accuracy=51.3]\n"
     ]
    },
    {
     "name": "stdout",
     "output_type": "stream",
     "text": [
      "\n",
      "Fold 5 - Epoch 26/30: Train Loss: 0.9680, Train Acc: 51.28%, Val Loss: 0.9364, Val Acc: 50.95%\n",
      "EarlyStopping counter: 2 out of 5\n"
     ]
    },
    {
     "name": "stderr",
     "output_type": "stream",
     "text": [
      "Fold 5 - Epoch 27/30: 100%|██████████| 819/819 [01:29<00:00,  9.18it/s, loss=0.958, accuracy=51.7]\n"
     ]
    },
    {
     "name": "stdout",
     "output_type": "stream",
     "text": [
      "\n",
      "Fold 5 - Epoch 27/30: Train Loss: 0.9578, Train Acc: 51.65%, Val Loss: 0.9628, Val Acc: 52.00%\n",
      "EarlyStopping counter: 3 out of 5\n"
     ]
    },
    {
     "name": "stderr",
     "output_type": "stream",
     "text": [
      "Fold 5 - Epoch 28/30: 100%|██████████| 819/819 [02:13<00:00,  6.13it/s, loss=0.95, accuracy=51.8]  \n"
     ]
    },
    {
     "name": "stdout",
     "output_type": "stream",
     "text": [
      "\n",
      "Fold 5 - Epoch 28/30: Train Loss: 0.9503, Train Acc: 51.82%, Val Loss: 0.9432, Val Acc: 53.65%\n",
      "EarlyStopping counter: 4 out of 5\n"
     ]
    },
    {
     "name": "stderr",
     "output_type": "stream",
     "text": [
      "Fold 5 - Epoch 29/30: 100%|██████████| 819/819 [02:10<00:00,  6.28it/s, loss=0.974, accuracy=51.6] \n"
     ]
    },
    {
     "name": "stdout",
     "output_type": "stream",
     "text": [
      "\n",
      "Fold 5 - Epoch 29/30: Train Loss: 0.9743, Train Acc: 51.61%, Val Loss: 0.9578, Val Acc: 50.49%\n",
      "EarlyStopping counter: 5 out of 5\n",
      "Early stopping triggered\n"
     ]
    },
    {
     "name": "stderr",
     "output_type": "stream",
     "text": [
      "Evaluating Fold 5: 100%|██████████| 205/205 [00:20<00:00, 10.01it/s]\n"
     ]
    },
    {
     "name": "stdout",
     "output_type": "stream",
     "text": [
      "Accuracy: 52.35%\n",
      "\n",
      "Classification Report:\n",
      "               precision    recall  f1-score   support\n",
      "\n",
      "Early_Spiral     0.1062    0.5512    0.1781       127\n",
      "  Elliptical     0.0970    0.6699    0.1695       103\n",
      "   Irregular     0.9605    0.4990    0.6567      5748\n",
      " Late_Spiral     0.2452    0.8396    0.3796       399\n",
      "  Lenticular     0.1032    0.5030    0.1712       169\n",
      "\n",
      "    accuracy                         0.5235      6546\n",
      "   macro avg     0.3024    0.6125    0.3110      6546\n",
      "weighted avg     0.8646    0.5235    0.6104      6546\n",
      "\n",
      "\n",
      "Average accuracy across 5 folds: 59.29%\n",
      "Best fold: 2 with accuracy: 76.46%\n",
      "Best model saved as: galaxy_cnn_final.pth\n"
     ]
    },
    {
     "name": "stderr",
     "output_type": "stream",
     "text": [
      "Testing ensemble model: 100%|██████████| 256/256 [00:23<00:00, 10.81it/s]\n"
     ]
    },
    {
     "name": "stdout",
     "output_type": "stream",
     "text": [
      "Ensemble Model Accuracy: 70.02%\n",
      "\n",
      "Ensemble Model Classification Report:\n",
      "               precision    recall  f1-score   support\n",
      "\n",
      "Early_Spiral     0.2248    0.5926    0.3260       162\n",
      "  Elliptical     0.1023    0.7967    0.1813       123\n",
      "   Irregular     0.9803    0.6920    0.8113      7198\n",
      " Late_Spiral     0.4569    0.8397    0.5918       499\n",
      "  Lenticular     0.1700    0.6766    0.2717       201\n",
      "\n",
      "    accuracy                         0.7002      8183\n",
      "   macro avg     0.3869    0.7195    0.4364      8183\n",
      "weighted avg     0.9003    0.7002    0.7656      8183\n",
      "\n",
      "\n",
      "Evaluating the best individual model on test set:\n"
     ]
    },
    {
     "name": "stderr",
     "output_type": "stream",
     "text": [
      "Evaluating: 100%|██████████| 256/256 [00:16<00:00, 15.14it/s]\n"
     ]
    },
    {
     "name": "stdout",
     "output_type": "stream",
     "text": [
      "Accuracy: 74.46%\n",
      "\n",
      "Classification Report:\n",
      "               precision    recall  f1-score   support\n",
      "\n",
      "Early_Spiral     0.2402    0.6790    0.3548       162\n",
      "  Elliptical     0.1131    0.8211    0.1988       123\n",
      "   Irregular     0.9843    0.7403    0.8451      7198\n",
      " Late_Spiral     0.5544    0.8277    0.6640       499\n",
      "  Lenticular     0.2080    0.6965    0.3204       201\n",
      "\n",
      "    accuracy                         0.7446      8183\n",
      "   macro avg     0.4200    0.7529    0.4766      8183\n",
      "weighted avg     0.9112    0.7446    0.8017      8183\n",
      "\n",
      "\n",
      "Results Summary:\n",
      "Best Individual Model (Fold 2) Accuracy on Test Set: 74.46%\n",
      "Ensemble Model Accuracy on Test Set: 70.02%\n",
      "Training and evaluation completed!\n"
     ]
    }
   ],
   "source": [
    "import torch\n",
    "import torch.nn as nn\n",
    "import torch.optim as optim\n",
    "from torch.utils.data import DataLoader, Dataset, random_split, WeightedRandomSampler, SubsetRandomSampler\n",
    "import os\n",
    "from tqdm import tqdm\n",
    "from PIL import Image\n",
    "import numpy as np\n",
    "from collections import Counter\n",
    "import matplotlib.pyplot as plt\n",
    "import seaborn as sns\n",
    "from sklearn.metrics import confusion_matrix, classification_report\n",
    "from sklearn.model_selection import KFold\n",
    "import torchvision.transforms as transforms\n",
    "\n",
    "torch.manual_seed(42)\n",
    "device = torch.device(\"cuda\" if torch.cuda.is_available() else \"cpu\")\n",
    "print(f\"Using device: {device}\")\n",
    "\n",
    "class GalaxyDataset(Dataset):\n",
    "    def __init__(self, root_dir, transform=None):\n",
    "        self.root_dir = root_dir\n",
    "        self.transform = transform\n",
    "        self.classes = sorted([d for d in os.listdir(root_dir) if os.path.isdir(os.path.join(root_dir, d))])\n",
    "        self.class_to_idx = {cls_name: i for i, cls_name in enumerate(self.classes)}\n",
    "        \n",
    "        self.images = []\n",
    "        self.labels = []\n",
    "        \n",
    "        # Walk through all subdirectories and collect image paths and labels\n",
    "        for class_name in self.classes:\n",
    "            class_dir = os.path.join(root_dir, class_name)\n",
    "            class_idx = self.class_to_idx[class_name]\n",
    "            \n",
    "            for img_name in os.listdir(class_dir):\n",
    "                if img_name.endswith(('.png', '.jpg', '.jpeg')):\n",
    "                    self.images.append(os.path.join(class_dir, img_name))\n",
    "                    self.labels.append(class_idx)\n",
    "        \n",
    "        # Calculate class weights\n",
    "        label_counter = Counter(self.labels)\n",
    "        self.class_weights = {cls: 1.0/count for cls, count in label_counter.items()}\n",
    "        \n",
    "        # Store sample weights for WeightedRandomSampler\n",
    "        self.sample_weights = [self.class_weights[label] for label in self.labels]\n",
    "        self.sample_weights = torch.FloatTensor(self.sample_weights)\n",
    "        \n",
    "        # Print dataset statistics\n",
    "        print(f\"Dataset: {root_dir}\")\n",
    "        print(f\"Classes: {self.classes}\")\n",
    "        print(f\"Total images: {len(self.images)}\")\n",
    "        print(f\"Class distribution: {label_counter}\")\n",
    "\n",
    "    def __len__(self):\n",
    "        return len(self.images)\n",
    "\n",
    "    def __getitem__(self, idx):\n",
    "        img_path = self.images[idx]\n",
    "        label = self.labels[idx]\n",
    "        \n",
    "        # Load and preprocess image\n",
    "        image = Image.open(img_path).convert(\"RGB\")\n",
    "        \n",
    "        # Apply transformations\n",
    "        if self.transform:\n",
    "            image = self.transform(image)\n",
    "        else:\n",
    "            # Default preprocessing if no transform provided\n",
    "            image = image.resize((128, 128))  # Resize to power of 2 for better performance\n",
    "            \n",
    "            # Basic augmentation for training\n",
    "            if self.root_dir.endswith('train'):\n",
    "                if torch.rand(1) > 0.5:  # Random horizontal flip\n",
    "                    image = image.transpose(Image.FLIP_LEFT_RIGHT)\n",
    "                if torch.rand(1) > 0.5:  # Random vertical flip\n",
    "                    image = image.transpose(Image.FLIP_TOP_BOTTOM)\n",
    "            \n",
    "            # Convert to numpy array and normalize\n",
    "            image_array = np.array(image) / 255.0\n",
    "            \n",
    "            # Convert to tensor\n",
    "            image = torch.FloatTensor(image_array).permute(2, 0, 1)\n",
    "        \n",
    "        return image, label\n",
    "\n",
    "\n",
    "class GalaxyResNet(nn.Module):\n",
    "    def __init__(self, num_classes):\n",
    "        super(GalaxyResNet, self).__init__()\n",
    "        \n",
    "        # Initial convolution layer\n",
    "        self.conv1 = nn.Conv2d(3, 64, kernel_size=7, stride=2, padding=3, bias=False)\n",
    "        self.bn1 = nn.BatchNorm2d(64)\n",
    "        self.relu = nn.ReLU(inplace=True)\n",
    "        self.maxpool = nn.MaxPool2d(kernel_size=3, stride=2, padding=1)\n",
    "        \n",
    "        # Residual blocks\n",
    "        self.layer1 = self._make_layer(64, 64, 2)\n",
    "        self.layer2 = self._make_layer(64, 128, 2, stride=2)\n",
    "        self.layer3 = self._make_layer(128, 256, 2, stride=2)\n",
    "        self.layer4 = self._make_layer(256, 512, 2, stride=2)\n",
    "        \n",
    "        # Classifier\n",
    "        self.avgpool = nn.AdaptiveAvgPool2d((1, 1))\n",
    "        self.dropout = nn.Dropout(0.3)\n",
    "        self.fc = nn.Linear(512, num_classes)\n",
    "        \n",
    "        # Initialize weights\n",
    "        self._initialize_weights()\n",
    "    \n",
    "    def _make_layer(self, in_channels, out_channels, blocks, stride=1):\n",
    "        layers = []\n",
    "        \n",
    "        # First block with potential stride\n",
    "        layers.append(self._residual_block(in_channels, out_channels, stride))\n",
    "        \n",
    "        # Subsequent blocks\n",
    "        for _ in range(1, blocks):\n",
    "            layers.append(self._residual_block(out_channels, out_channels))\n",
    "        \n",
    "        return nn.Sequential(*layers)\n",
    "    \n",
    "    def _residual_block(self, in_channels, out_channels, stride=1):\n",
    "        downsample = None\n",
    "        if stride != 1 or in_channels != out_channels:\n",
    "            downsample = nn.Sequential(\n",
    "                nn.Conv2d(in_channels, out_channels, kernel_size=1, stride=stride, bias=False),\n",
    "                nn.BatchNorm2d(out_channels)\n",
    "            )\n",
    "        \n",
    "        return ResidualBlock(in_channels, out_channels, stride, downsample)\n",
    "    \n",
    "    def _initialize_weights(self):\n",
    "        for m in self.modules():\n",
    "            if isinstance(m, nn.Conv2d):\n",
    "                nn.init.kaiming_normal_(m.weight, mode='fan_out', nonlinearity='relu')\n",
    "            elif isinstance(m, nn.BatchNorm2d):\n",
    "                nn.init.constant_(m.weight, 1)\n",
    "                nn.init.constant_(m.bias, 0)\n",
    "            elif isinstance(m, nn.Linear):\n",
    "                nn.init.normal_(m.weight, 0, 0.01)\n",
    "                nn.init.constant_(m.bias, 0)\n",
    "    \n",
    "    def forward(self, x):\n",
    "        x = self.conv1(x)\n",
    "        x = self.bn1(x)\n",
    "        x = self.relu(x)\n",
    "        x = self.maxpool(x)\n",
    "        \n",
    "        x = self.layer1(x)\n",
    "        x = self.layer2(x)\n",
    "        x = self.layer3(x)\n",
    "        x = self.layer4(x)\n",
    "        \n",
    "        x = self.avgpool(x)\n",
    "        x = torch.flatten(x, 1)\n",
    "        x = self.dropout(x)\n",
    "        x = self.fc(x)\n",
    "        \n",
    "        return x\n",
    "\n",
    "\n",
    "class ResidualBlock(nn.Module):\n",
    "    def __init__(self, in_channels, out_channels, stride=1, downsample=None):\n",
    "        super(ResidualBlock, self).__init__()\n",
    "        \n",
    "        self.conv1 = nn.Conv2d(in_channels, out_channels, kernel_size=3, stride=stride, padding=1, bias=False)\n",
    "        self.bn1 = nn.BatchNorm2d(out_channels)\n",
    "        self.relu = nn.ReLU(inplace=True)\n",
    "        self.conv2 = nn.Conv2d(out_channels, out_channels, kernel_size=3, padding=1, bias=False)\n",
    "        self.bn2 = nn.BatchNorm2d(out_channels)\n",
    "        self.downsample = downsample\n",
    "    \n",
    "    def forward(self, x):\n",
    "        identity = x\n",
    "        \n",
    "        out = self.conv1(x)\n",
    "        out = self.bn1(out)\n",
    "        out = self.relu(out)\n",
    "        \n",
    "        out = self.conv2(out)\n",
    "        out = self.bn2(out)\n",
    "        \n",
    "        if self.downsample is not None:\n",
    "            identity = self.downsample(x)\n",
    "        \n",
    "        out += identity\n",
    "        out = self.relu(out)\n",
    "        \n",
    "        return out\n",
    "\n",
    "\n",
    "class EarlyStopping:\n",
    "    def __init__(self, patience=5, verbose=False, delta=0.01, path='checkpoint.pt'):\n",
    "        self.patience = patience\n",
    "        self.verbose = verbose\n",
    "        self.delta = delta\n",
    "        self.path = path\n",
    "        self.counter = 0\n",
    "        self.best_score = None\n",
    "        self.early_stop = False\n",
    "        self.val_loss_min = np.Inf\n",
    "\n",
    "    def __call__(self, val_loss, model):\n",
    "        score = -val_loss\n",
    "        if self.best_score is None:\n",
    "            self.best_score = score\n",
    "            self.save_checkpoint(val_loss, model)\n",
    "        elif score < self.best_score - self.delta:\n",
    "            self.counter += 1\n",
    "            print(f'EarlyStopping counter: {self.counter} out of {self.patience}')\n",
    "            if self.counter >= self.patience:\n",
    "                self.early_stop = True\n",
    "        else:\n",
    "            self.best_score = score\n",
    "            self.save_checkpoint(val_loss, model)\n",
    "            self.counter = 0\n",
    "\n",
    "    def save_checkpoint(self, val_loss, model):\n",
    "        '''Save model when validation loss decreases.'''\n",
    "        if self.verbose:\n",
    "            print(f'Validation loss decreased ({self.val_loss_min:.6f} --> {val_loss:.6f}). Saving model...')\n",
    "        torch.save(model.state_dict(), self.path)\n",
    "        self.val_loss_min = val_loss\n",
    "\n",
    "\n",
    "def train_fold(model, train_loader, val_loader, criterion, optimizer, scheduler, early_stopping, num_epochs, fold):\n",
    "    device = torch.device(\"cuda\" if torch.cuda.is_available() else \"cpu\")\n",
    "    model.to(device)\n",
    "    train_losses, val_losses = [], []\n",
    "    train_accuracies, val_accuracies = [], []\n",
    "\n",
    "    for epoch in range(num_epochs):\n",
    "        model.train()\n",
    "        running_loss, correct, total = 0.0, 0, 0\n",
    "        progress_bar = tqdm(train_loader, desc=f'Fold {fold+1} - Epoch {epoch+1}/{num_epochs}')\n",
    "        \n",
    "        for inputs, labels in progress_bar:\n",
    "            inputs, labels = inputs.to(device), labels.to(device)\n",
    "            optimizer.zero_grad()\n",
    "            outputs = model(inputs)\n",
    "            loss = criterion(outputs, labels)\n",
    "            loss.backward()\n",
    "            optimizer.step()\n",
    "            running_loss += loss.item()\n",
    "            _, predicted = outputs.max(1)\n",
    "            total += labels.size(0)\n",
    "            correct += predicted.eq(labels).sum().item()\n",
    "            progress_bar.set_postfix({'loss': running_loss / len(train_loader), 'accuracy': 100. * correct / total})\n",
    "        \n",
    "        train_loss = running_loss / len(train_loader)\n",
    "        train_accuracy = 100. * correct / total\n",
    "        train_losses.append(train_loss)\n",
    "        train_accuracies.append(train_accuracy)\n",
    "        \n",
    "        model.eval()\n",
    "        val_loss, val_correct, val_total = 0.0, 0, 0\n",
    "        with torch.no_grad():\n",
    "            for inputs, labels in val_loader:\n",
    "                inputs, labels = inputs.to(device), labels.to(device)\n",
    "                outputs = model(inputs)\n",
    "                loss = criterion(outputs, labels)\n",
    "                val_loss += loss.item()\n",
    "                _, predicted = outputs.max(1)\n",
    "                val_total += labels.size(0)\n",
    "                val_correct += predicted.eq(labels).sum().item()\n",
    "        \n",
    "        val_loss /= len(val_loader)\n",
    "        val_accuracy = 100. * val_correct / val_total\n",
    "        val_losses.append(val_loss)\n",
    "        val_accuracies.append(val_accuracy)\n",
    "        \n",
    "        print(f'\\nFold {fold+1} - Epoch {epoch+1}/{num_epochs}: '\n",
    "              f'Train Loss: {train_loss:.4f}, Train Acc: {train_accuracy:.2f}%, '\n",
    "              f'Val Loss: {val_loss:.4f}, Val Acc: {val_accuracy:.2f}%')\n",
    "        \n",
    "        early_stopping(val_loss, model)\n",
    "        if early_stopping.early_stop:\n",
    "            print(\"Early stopping triggered\")\n",
    "            break\n",
    "        \n",
    "        scheduler.step(val_accuracy)\n",
    "\n",
    "    # Load the best model\n",
    "    model.load_state_dict(torch.load(early_stopping.path))\n",
    "    \n",
    "    # Plot metrics for this fold\n",
    "    plot_metrics(train_losses, val_losses, train_accuracies, val_accuracies, fold)\n",
    "    \n",
    "    return model\n",
    "\n",
    "\n",
    "def plot_metrics(train_losses, val_losses, train_accuracies, val_accuracies, fold):\n",
    "    # Create a figure with two subplots\n",
    "    fig, (ax1, ax2) = plt.subplots(1, 2, figsize=(15, 5))\n",
    "    \n",
    "    # Plot losses\n",
    "    ax1.plot(train_losses, label='Train Loss')\n",
    "    ax1.plot(val_losses, label='Validation Loss')\n",
    "    ax1.set_xlabel('Epochs')\n",
    "    ax1.set_ylabel('Loss')\n",
    "    ax1.legend()\n",
    "    ax1.set_title(f'Fold {fold+1} - Training & Validation Loss')\n",
    "    \n",
    "    # Plot accuracies\n",
    "    ax2.plot(train_accuracies, label='Train Accuracy')\n",
    "    ax2.plot(val_accuracies, label='Validation Accuracy')\n",
    "    ax2.set_xlabel('Epochs')\n",
    "    ax2.set_ylabel('Accuracy (%)')\n",
    "    ax2.legend()\n",
    "    ax2.set_title(f'Fold {fold+1} - Training & Validation Accuracy')\n",
    "    \n",
    "    plt.tight_layout()\n",
    "    plt.savefig(f'metrics_fold_{fold+1}.png')\n",
    "    plt.close()\n",
    "\n",
    "\n",
    "def evaluate_model(model, loader, class_names, fold=None):\n",
    "    device = torch.device(\"cuda\" if torch.cuda.is_available() else \"cpu\")\n",
    "    model.eval()\n",
    "    correct, total = 0, 0\n",
    "    all_preds, all_labels = [], []\n",
    "    \n",
    "    with torch.no_grad():\n",
    "        for inputs, labels in tqdm(loader, desc=f'Evaluating Fold {fold+1}' if fold is not None else 'Evaluating'):\n",
    "            inputs, labels = inputs.to(device), labels.to(device)\n",
    "            outputs = model(inputs)\n",
    "            _, predicted = outputs.max(1)\n",
    "            total += labels.size(0)\n",
    "            correct += predicted.eq(labels).sum().item()\n",
    "            all_preds.extend(predicted.cpu().numpy())\n",
    "            all_labels.extend(labels.cpu().numpy())\n",
    "    \n",
    "    accuracy = 100. * correct / total\n",
    "    print(f'Accuracy: {accuracy:.2f}%')\n",
    "    \n",
    "    num_classes = len(class_names)\n",
    "    conf_matrix = confusion_matrix(all_labels, all_preds)\n",
    "    plt.figure(figsize=(10, 8))\n",
    "    sns.heatmap(conf_matrix, annot=True, fmt='d', cmap='Blues', \n",
    "                xticklabels=class_names, yticklabels=class_names)\n",
    "    plt.xlabel('Predicted')\n",
    "    plt.ylabel('Actual')\n",
    "    title = f'Fold {fold+1} - Confusion Matrix' if fold is not None else 'Confusion Matrix'\n",
    "    plt.title(title)\n",
    "    plt.tight_layout()\n",
    "    plt.savefig(f'confusion_matrix_fold_{fold+1}.png' if fold is not None else 'confusion_matrix.png')\n",
    "    plt.close()\n",
    "    \n",
    "    report = classification_report(all_labels, all_preds, target_names=class_names, digits=4)\n",
    "    print(\"\\nClassification Report:\\n\", report)\n",
    "    \n",
    "    # Save classification report to file\n",
    "    with open(f'classification_report_fold_{fold+1}.txt' if fold is not None else 'classification_report.txt', 'w') as f:\n",
    "        f.write(report)\n",
    "\n",
    "    return accuracy, all_preds, all_labels\n",
    "\n",
    "\n",
    "def k_fold_cross_validation(train_dataset, num_folds=5, num_epochs=30):\n",
    "    results = {}\n",
    "    all_fold_accuracies = []\n",
    "    kfold = KFold(n_splits=num_folds, shuffle=True, random_state=42)\n",
    "    \n",
    "    num_classes = len(train_dataset.classes)\n",
    "    class_names = train_dataset.classes\n",
    "    \n",
    "    # Get the class weights for loss function\n",
    "    label_counter = Counter(train_dataset.labels)\n",
    "    class_weights = torch.FloatTensor([1.0/label_counter[i] for i in range(num_classes)]).to(device)\n",
    "    \n",
    "    for fold, (train_idx, val_idx) in enumerate(kfold.split(train_dataset)):\n",
    "        print(f'\\n{\"=\"*20} Fold {fold+1}/{num_folds} {\"=\"*20}')\n",
    "        \n",
    "        # Sample validation indices directly\n",
    "        train_sampler = SubsetRandomSampler(train_idx)\n",
    "        val_sampler = SubsetRandomSampler(val_idx)\n",
    "        \n",
    "        train_loader = DataLoader(train_dataset, batch_size=32, sampler=train_sampler)\n",
    "        val_loader = DataLoader(train_dataset, batch_size=32, sampler=val_sampler)\n",
    "        \n",
    "        model = GalaxyResNet(num_classes=num_classes).to(device)\n",
    "        criterion = nn.CrossEntropyLoss(weight=class_weights)\n",
    "        optimizer = optim.AdamW(model.parameters(), lr=0.001, weight_decay=0.01)\n",
    "        scheduler = optim.lr_scheduler.ReduceLROnPlateau(optimizer, mode='max', factor=0.1, patience=3, verbose=True, min_lr=1e-6)\n",
    "        early_stopping = EarlyStopping(patience=5, verbose=True, delta=0.01, path=f'model_fold_{fold+1}.pt')\n",
    "        \n",
    "        model = train_fold(model, train_loader, val_loader, criterion, optimizer, scheduler, early_stopping, num_epochs, fold)\n",
    "        accuracy, predictions, labels = evaluate_model(model, val_loader, class_names, fold)\n",
    "        \n",
    "        results[fold] = {\n",
    "            'accuracy': accuracy,\n",
    "            'model_path': f'model_fold_{fold+1}.pt'\n",
    "        }\n",
    "        all_fold_accuracies.append(accuracy)\n",
    "    \n",
    "    # Calculate and print average accuracy across all folds\n",
    "    avg_accuracy = sum(all_fold_accuracies) / len(all_fold_accuracies)\n",
    "    print(f'\\nAverage accuracy across {num_folds} folds: {avg_accuracy:.2f}%')\n",
    "    \n",
    "    # Find the best fold\n",
    "    best_fold = max(results.keys(), key=lambda k: results[k]['accuracy'])\n",
    "    print(f'Best fold: {best_fold+1} with accuracy: {results[best_fold][\"accuracy\"]:.2f}%')\n",
    "    \n",
    "    # Save the best model as the final model\n",
    "    best_model_path = results[best_fold]['model_path']\n",
    "    torch.save(torch.load(best_model_path), 'galaxy_cnn_final.pth')\n",
    "    print(f'Best model saved as: galaxy_cnn_final.pth')\n",
    "    \n",
    "    return results\n",
    "\n",
    "\n",
    "def test_ensemble_model(models, test_loader, class_names):\n",
    "    \"\"\"Test with an ensemble of models by averaging predictions\"\"\"\n",
    "    device = torch.device(\"cuda\" if torch.cuda.is_available() else \"cpu\")\n",
    "    correct = 0\n",
    "    total = 0\n",
    "    all_preds = []\n",
    "    all_labels = []\n",
    "    \n",
    "    # Set all models to evaluation mode\n",
    "    for model in models:\n",
    "        model.eval()\n",
    "    \n",
    "    with torch.no_grad():\n",
    "        for inputs, labels in tqdm(test_loader, desc='Testing ensemble model'):\n",
    "            inputs, labels = inputs.to(device), labels.to(device)\n",
    "            \n",
    "            # Get predictions from all models\n",
    "            outputs_sum = None\n",
    "            for model in models:\n",
    "                outputs = model(inputs)\n",
    "                if outputs_sum is None:\n",
    "                    outputs_sum = outputs\n",
    "                else:\n",
    "                    outputs_sum += outputs\n",
    "            \n",
    "            # Average predictions\n",
    "            outputs_avg = outputs_sum / len(models)\n",
    "            _, predicted = outputs_avg.max(1)\n",
    "            \n",
    "            total += labels.size(0)\n",
    "            correct += predicted.eq(labels).sum().item()\n",
    "            all_preds.extend(predicted.cpu().numpy())\n",
    "            all_labels.extend(labels.cpu().numpy())\n",
    "    \n",
    "    # Calculate accuracy\n",
    "    accuracy = 100. * correct / total\n",
    "    print(f'Ensemble Model Accuracy: {accuracy:.2f}%')\n",
    "    \n",
    "    # Create confusion matrix\n",
    "    conf_matrix = confusion_matrix(all_labels, all_preds)\n",
    "    plt.figure(figsize=(10, 8))\n",
    "    sns.heatmap(conf_matrix, annot=True, fmt='d', cmap='Blues',\n",
    "                xticklabels=class_names, yticklabels=class_names)\n",
    "    plt.xlabel('Predicted')\n",
    "    plt.ylabel('Actual')\n",
    "    plt.title('Ensemble Model - Confusion Matrix')\n",
    "    plt.tight_layout()\n",
    "    plt.savefig('ensemble_confusion_matrix.png')\n",
    "    plt.close()\n",
    "    \n",
    "    # Generate classification report\n",
    "    report = classification_report(all_labels, all_preds, target_names=class_names, digits=4)\n",
    "    print(\"\\nEnsemble Model Classification Report:\\n\", report)\n",
    "    \n",
    "    # Save classification report to file\n",
    "    with open('ensemble_classification_report.txt', 'w') as f:\n",
    "        f.write(report)\n",
    "    \n",
    "    return accuracy\n",
    "\n",
    "\n",
    "def main():\n",
    "    # Dataset paths\n",
    "    train_dir = \"./galaxy_dataset_rgb/train\"\n",
    "    test_dir = \"./galaxy_dataset_rgb/test\"\n",
    "    \n",
    "    # Define augmentation transform for training\n",
    "    train_transform = transforms.Compose([\n",
    "        transforms.Resize((128, 128)),\n",
    "        transforms.RandomHorizontalFlip(),\n",
    "        transforms.RandomVerticalFlip(),\n",
    "        transforms.RandomRotation(15),\n",
    "        transforms.ColorJitter(brightness=0.1, contrast=0.1, saturation=0.1, hue=0.1),\n",
    "        transforms.ToTensor(),\n",
    "        transforms.Normalize(mean=[0.485, 0.456, 0.406], std=[0.229, 0.224, 0.225])\n",
    "    ])\n",
    "    \n",
    "    # Define transformation for validation/test\n",
    "    test_transform = transforms.Compose([\n",
    "        transforms.Resize((128, 128)),\n",
    "        transforms.ToTensor(),\n",
    "        transforms.Normalize(mean=[0.485, 0.456, 0.406], std=[0.229, 0.224, 0.225])\n",
    "    ])\n",
    "    \n",
    "    # Create datasets\n",
    "    train_dataset = GalaxyDataset(root_dir=train_dir, transform=train_transform)\n",
    "    test_dataset = GalaxyDataset(root_dir=test_dir, transform=test_transform)\n",
    "    \n",
    "    # Create test dataloader\n",
    "    test_loader = DataLoader(test_dataset, batch_size=32, shuffle=False)\n",
    "    \n",
    "    # Number of classes\n",
    "    num_classes = len(train_dataset.classes)\n",
    "    class_names = train_dataset.classes\n",
    "    print(f\"Number of classes: {num_classes}\")\n",
    "    print(f\"Class names: {class_names}\")\n",
    "    \n",
    "    # Perform k-fold cross validation\n",
    "    num_folds = 5\n",
    "    results = k_fold_cross_validation(train_dataset, num_folds=num_folds, num_epochs=30)\n",
    "    \n",
    "    # Create ensemble model (from all folds)\n",
    "    ensemble_models = []\n",
    "    for fold in range(num_folds):\n",
    "        model = GalaxyResNet(num_classes=num_classes).to(device)\n",
    "        model.load_state_dict(torch.load(f'model_fold_{fold+1}.pt'))\n",
    "        ensemble_models.append(model)\n",
    "    \n",
    "    # Test the ensemble model\n",
    "    ensemble_accuracy = test_ensemble_model(ensemble_models, test_loader, class_names)\n",
    "    \n",
    "    # Also test the best individual model\n",
    "    best_fold = max(results.keys(), key=lambda k: results[k]['accuracy'])\n",
    "    best_model = GalaxyResNet(num_classes=num_classes).to(device)\n",
    "    best_model.load_state_dict(torch.load('galaxy_cnn_final.pth'))\n",
    "    print(\"\\nEvaluating the best individual model on test set:\")\n",
    "    best_model_accuracy, _, _ = evaluate_model(best_model, test_loader, class_names)\n",
    "    \n",
    "    print(\"\\nResults Summary:\")\n",
    "    print(f\"Best Individual Model (Fold {best_fold+1}) Accuracy on Test Set: {best_model_accuracy:.2f}%\")\n",
    "    print(f\"Ensemble Model Accuracy on Test Set: {ensemble_accuracy:.2f}%\")\n",
    "    \n",
    "    print(\"Training and evaluation completed!\")\n",
    "\n",
    "\n",
    "if __name__ == '__main__':\n",
    "    main()"
   ]
  }
 ],
 "metadata": {
  "kernelspec": {
   "display_name": "Python 3",
   "language": "python",
   "name": "python3"
  },
  "language_info": {
   "codemirror_mode": {
    "name": "ipython",
    "version": 3
   },
   "file_extension": ".py",
   "mimetype": "text/x-python",
   "name": "python",
   "nbconvert_exporter": "python",
   "pygments_lexer": "ipython3",
   "version": "3.12.8"
  }
 },
 "nbformat": 4,
 "nbformat_minor": 2
}
