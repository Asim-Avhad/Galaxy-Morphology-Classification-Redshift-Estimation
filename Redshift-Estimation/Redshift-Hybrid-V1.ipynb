{
 "cells": [
  {
   "cell_type": "code",
   "execution_count": null,
   "metadata": {},
   "outputs": [
    {
     "name": "stderr",
     "output_type": "stream",
     "text": [
      "Epoch 1: 100%|██████████| 6393/6393 [11:05<00:00,  9.60batch/s, loss=0.0578] \n"
     ]
    },
    {
     "name": "stdout",
     "output_type": "stream",
     "text": [
      "Epoch 1 Loss: 0.04116680618957088\n",
      "Model saved at epoch 1 with loss 0.04116680618957088\n"
     ]
    },
    {
     "name": "stderr",
     "output_type": "stream",
     "text": [
      "Epoch 2: 100%|██████████| 6393/6393 [12:15<00:00,  8.69batch/s, loss=0.00432]  \n"
     ]
    },
    {
     "name": "stdout",
     "output_type": "stream",
     "text": [
      "Epoch 2 Loss: 0.032233147479178714\n",
      "Model saved at epoch 2 with loss 0.032233147479178714\n"
     ]
    },
    {
     "name": "stderr",
     "output_type": "stream",
     "text": [
      "Epoch 3: 100%|██████████| 6393/6393 [11:28<00:00,  9.29batch/s, loss=0.0118] \n"
     ]
    },
    {
     "name": "stdout",
     "output_type": "stream",
     "text": [
      "Epoch 3 Loss: 0.02999175899105877\n",
      "Model saved at epoch 3 with loss 0.02999175899105877\n"
     ]
    },
    {
     "name": "stderr",
     "output_type": "stream",
     "text": [
      "Epoch 4: 100%|██████████| 6393/6393 [16:07<00:00,  6.61batch/s, loss=0.0237]  \n"
     ]
    },
    {
     "name": "stdout",
     "output_type": "stream",
     "text": [
      "Epoch 4 Loss: 0.028998501972536735\n",
      "Model saved at epoch 4 with loss 0.028998501972536735\n"
     ]
    },
    {
     "name": "stderr",
     "output_type": "stream",
     "text": [
      "Epoch 5: 100%|██████████| 6393/6393 [11:43<00:00,  9.09batch/s, loss=0.0078] \n"
     ]
    },
    {
     "name": "stdout",
     "output_type": "stream",
     "text": [
      "Epoch 5 Loss: 0.027572316534243392\n",
      "Model saved at epoch 5 with loss 0.027572316534243392\n"
     ]
    },
    {
     "name": "stderr",
     "output_type": "stream",
     "text": [
      "Epoch 6: 100%|██████████| 6393/6393 [10:35<00:00, 10.05batch/s, loss=0.00863]\n"
     ]
    },
    {
     "name": "stdout",
     "output_type": "stream",
     "text": [
      "Epoch 6 Loss: 0.02733594663277657\n",
      "Model saved at epoch 6 with loss 0.02733594663277657\n"
     ]
    },
    {
     "name": "stderr",
     "output_type": "stream",
     "text": [
      "Epoch 7: 100%|██████████| 6393/6393 [10:03<00:00, 10.59batch/s, loss=0.0382] \n"
     ]
    },
    {
     "name": "stdout",
     "output_type": "stream",
     "text": [
      "Epoch 7 Loss: 0.028114734391300755\n"
     ]
    },
    {
     "name": "stderr",
     "output_type": "stream",
     "text": [
      "Epoch 8: 100%|██████████| 6393/6393 [09:22<00:00, 11.36batch/s, loss=0.0145] \n"
     ]
    },
    {
     "name": "stdout",
     "output_type": "stream",
     "text": [
      "Epoch 8 Loss: 0.027771796453366866\n"
     ]
    },
    {
     "name": "stderr",
     "output_type": "stream",
     "text": [
      "Epoch 9: 100%|██████████| 6393/6393 [09:24<00:00, 11.32batch/s, loss=0.0144] \n"
     ]
    },
    {
     "name": "stdout",
     "output_type": "stream",
     "text": [
      "Epoch 9 Loss: 0.026899618002577765\n",
      "Model saved at epoch 9 with loss 0.026899618002577765\n"
     ]
    },
    {
     "name": "stderr",
     "output_type": "stream",
     "text": [
      "Epoch 10: 100%|██████████| 6393/6393 [09:15<00:00, 11.51batch/s, loss=0.0315] \n"
     ]
    },
    {
     "name": "stdout",
     "output_type": "stream",
     "text": [
      "Epoch 10 Loss: 0.026001005889127494\n",
      "Model saved at epoch 10 with loss 0.026001005889127494\n"
     ]
    },
    {
     "ename": "RuntimeError",
     "evalue": "Error(s) in loading state_dict for HybridRedshiftModel:\n\tMissing key(s) in state_dict: \"photo.bn1.weight\", \"photo.bn1.bias\", \"photo.bn1.running_mean\", \"photo.bn1.running_var\", \"photo.bn2.weight\", \"photo.bn2.bias\", \"photo.bn2.running_mean\", \"photo.bn2.running_var\", \"image.conv4.weight\", \"image.conv4.bias\". \n\tsize mismatch for image.fc.weight: copying a param with shape torch.Size([128, 8192]) from checkpoint, the shape in current model is torch.Size([128, 4096]).",
     "output_type": "error",
     "traceback": [
      "\u001b[1;31m---------------------------------------------------------------------------\u001b[0m",
      "\u001b[1;31mRuntimeError\u001b[0m                              Traceback (most recent call last)",
      "Cell \u001b[1;32mIn[3], line 146\u001b[0m\n\u001b[0;32m    143\u001b[0m train_model(model, dataloader, optimizer, criterion, num_epochs\u001b[38;5;241m=\u001b[39m\u001b[38;5;241m10\u001b[39m, patience\u001b[38;5;241m=\u001b[39m\u001b[38;5;241m3\u001b[39m, save_path\u001b[38;5;241m=\u001b[39m\u001b[38;5;124m'\u001b[39m\u001b[38;5;124m24_mar_model.pth\u001b[39m\u001b[38;5;124m'\u001b[39m)\n\u001b[0;32m    145\u001b[0m \u001b[38;5;66;03m# Load Best Model for Testing\u001b[39;00m\n\u001b[1;32m--> 146\u001b[0m \u001b[43mmodel\u001b[49m\u001b[38;5;241;43m.\u001b[39;49m\u001b[43mload_state_dict\u001b[49m\u001b[43m(\u001b[49m\u001b[43mtorch\u001b[49m\u001b[38;5;241;43m.\u001b[39;49m\u001b[43mload\u001b[49m\u001b[43m(\u001b[49m\u001b[38;5;124;43m'\u001b[39;49m\u001b[38;5;124;43mbest_model.pth\u001b[39;49m\u001b[38;5;124;43m'\u001b[39;49m\u001b[43m)\u001b[49m\u001b[43m)\u001b[49m\n\u001b[0;32m    147\u001b[0m model\u001b[38;5;241m.\u001b[39meval()\n\u001b[0;32m    149\u001b[0m \u001b[38;5;66;03m# Evaluate Model\u001b[39;00m\n",
      "File \u001b[1;32mc:\\Users\\ASUS\\AppData\\Local\\Programs\\Python\\Python312\\Lib\\site-packages\\torch\\nn\\modules\\module.py:2581\u001b[0m, in \u001b[0;36mModule.load_state_dict\u001b[1;34m(self, state_dict, strict, assign)\u001b[0m\n\u001b[0;32m   2573\u001b[0m         error_msgs\u001b[38;5;241m.\u001b[39minsert(\n\u001b[0;32m   2574\u001b[0m             \u001b[38;5;241m0\u001b[39m,\n\u001b[0;32m   2575\u001b[0m             \u001b[38;5;124m\"\u001b[39m\u001b[38;5;124mMissing key(s) in state_dict: \u001b[39m\u001b[38;5;132;01m{}\u001b[39;00m\u001b[38;5;124m. \u001b[39m\u001b[38;5;124m\"\u001b[39m\u001b[38;5;241m.\u001b[39mformat(\n\u001b[0;32m   2576\u001b[0m                 \u001b[38;5;124m\"\u001b[39m\u001b[38;5;124m, \u001b[39m\u001b[38;5;124m\"\u001b[39m\u001b[38;5;241m.\u001b[39mjoin(\u001b[38;5;124mf\u001b[39m\u001b[38;5;124m'\u001b[39m\u001b[38;5;124m\"\u001b[39m\u001b[38;5;132;01m{\u001b[39;00mk\u001b[38;5;132;01m}\u001b[39;00m\u001b[38;5;124m\"\u001b[39m\u001b[38;5;124m'\u001b[39m \u001b[38;5;28;01mfor\u001b[39;00m k \u001b[38;5;129;01min\u001b[39;00m missing_keys)\n\u001b[0;32m   2577\u001b[0m             ),\n\u001b[0;32m   2578\u001b[0m         )\n\u001b[0;32m   2580\u001b[0m \u001b[38;5;28;01mif\u001b[39;00m \u001b[38;5;28mlen\u001b[39m(error_msgs) \u001b[38;5;241m>\u001b[39m \u001b[38;5;241m0\u001b[39m:\n\u001b[1;32m-> 2581\u001b[0m     \u001b[38;5;28;01mraise\u001b[39;00m \u001b[38;5;167;01mRuntimeError\u001b[39;00m(\n\u001b[0;32m   2582\u001b[0m         \u001b[38;5;124m\"\u001b[39m\u001b[38;5;124mError(s) in loading state_dict for \u001b[39m\u001b[38;5;132;01m{}\u001b[39;00m\u001b[38;5;124m:\u001b[39m\u001b[38;5;130;01m\\n\u001b[39;00m\u001b[38;5;130;01m\\t\u001b[39;00m\u001b[38;5;132;01m{}\u001b[39;00m\u001b[38;5;124m\"\u001b[39m\u001b[38;5;241m.\u001b[39mformat(\n\u001b[0;32m   2583\u001b[0m             \u001b[38;5;28mself\u001b[39m\u001b[38;5;241m.\u001b[39m\u001b[38;5;18m__class__\u001b[39m\u001b[38;5;241m.\u001b[39m\u001b[38;5;18m__name__\u001b[39m, \u001b[38;5;124m\"\u001b[39m\u001b[38;5;130;01m\\n\u001b[39;00m\u001b[38;5;130;01m\\t\u001b[39;00m\u001b[38;5;124m\"\u001b[39m\u001b[38;5;241m.\u001b[39mjoin(error_msgs)\n\u001b[0;32m   2584\u001b[0m         )\n\u001b[0;32m   2585\u001b[0m     )\n\u001b[0;32m   2586\u001b[0m \u001b[38;5;28;01mreturn\u001b[39;00m _IncompatibleKeys(missing_keys, unexpected_keys)\n",
      "\u001b[1;31mRuntimeError\u001b[0m: Error(s) in loading state_dict for HybridRedshiftModel:\n\tMissing key(s) in state_dict: \"photo.bn1.weight\", \"photo.bn1.bias\", \"photo.bn1.running_mean\", \"photo.bn1.running_var\", \"photo.bn2.weight\", \"photo.bn2.bias\", \"photo.bn2.running_mean\", \"photo.bn2.running_var\", \"image.conv4.weight\", \"image.conv4.bias\". \n\tsize mismatch for image.fc.weight: copying a param with shape torch.Size([128, 8192]) from checkpoint, the shape in current model is torch.Size([128, 4096])."
     ]
    }
   ],
   "source": [
    "import torch\n",
    "import torch.nn as nn\n",
    "import torch.optim as optim\n",
    "import torch.utils.data as data\n",
    "import h5py\n",
    "from torchvision import transforms\n",
    "from tqdm import tqdm\n",
    "import numpy as np\n",
    "\n",
    "# Check for CUDA\n",
    "device = torch.device(\"cuda\" if torch.cuda.is_available() else \"cpu\")\n",
    "\n",
    "# Photometric Feature Extractor (MLP)\n",
    "class PhotometricMLP(nn.Module):\n",
    "    def __init__(self, input_size):\n",
    "        super(PhotometricMLP, self).__init__()\n",
    "        self.fc1 = nn.Linear(input_size, 128)\n",
    "        self.bn1 = nn.BatchNorm1d(128)\n",
    "        self.fc2 = nn.Linear(128, 128)\n",
    "        self.bn2 = nn.BatchNorm1d(128)\n",
    "        self.dropout = nn.Dropout(0.3)\n",
    "        self.relu = nn.ReLU()\n",
    "    \n",
    "    def forward(self, x):\n",
    "        x = self.relu(self.bn1(self.fc1(x)))\n",
    "        x = self.dropout(self.relu(self.bn2(self.fc2(x))))\n",
    "        return x\n",
    "\n",
    "# Custom CNN for Image Feature Extraction (Improved with Adaptive Pooling and Extra Layer)\n",
    "class ImageCNN(nn.Module):\n",
    "    def __init__(self):\n",
    "        super(ImageCNN, self).__init__()\n",
    "        self.conv1 = nn.Conv2d(5, 32, kernel_size=3, stride=1, padding=1)\n",
    "        self.conv2 = nn.Conv2d(32, 64, kernel_size=3, stride=1, padding=1)\n",
    "        self.conv3 = nn.Conv2d(64, 128, kernel_size=3, stride=1, padding=1)\n",
    "        self.conv4 = nn.Conv2d(128, 256, kernel_size=3, stride=1, padding=1)\n",
    "        self.pool = nn.MaxPool2d(kernel_size=2, stride=2, padding=0)\n",
    "        self.adaptive_pool = nn.AdaptiveAvgPool2d((4, 4))\n",
    "        self.relu = nn.ReLU()\n",
    "        self.dropout = nn.Dropout(0.3)\n",
    "\n",
    "        self.fc = nn.Linear(256 * 4 * 4, 128)\n",
    "    \n",
    "    def forward(self, x):\n",
    "        x = self.pool(self.relu(self.conv1(x)))\n",
    "        x = self.pool(self.relu(self.conv2(x)))\n",
    "        x = self.pool(self.relu(self.conv3(x)))\n",
    "        x = self.pool(self.relu(self.conv4(x)))\n",
    "        x = self.adaptive_pool(x)\n",
    "        x = x.view(x.size(0), -1)\n",
    "        x = self.dropout(self.relu(self.fc(x)))\n",
    "        return x\n",
    "\n",
    "# Hybrid Model\n",
    "class HybridRedshiftModel(nn.Module):\n",
    "    def __init__(self, photometric_input):\n",
    "        super(HybridRedshiftModel, self).__init__()\n",
    "        self.photo = PhotometricMLP(photometric_input).to(device)\n",
    "        self.image = ImageCNN().to(device)\n",
    "        self.fc = nn.Linear(128 * 2, 1)  # Combining photometric and image features\n",
    "    \n",
    "    def forward(self, photo, img):\n",
    "        photo_feat = self.photo(photo)\n",
    "        img_feat = self.image(img)\n",
    "        fused = torch.cat((photo_feat, img_feat), dim=1)\n",
    "        output = self.fc(fused).squeeze(1)\n",
    "        return output\n",
    "\n",
    "# Custom Dataset for HDF5 File\n",
    "class HDF5Dataset(data.Dataset):\n",
    "    def __init__(self, hdf5_path):\n",
    "        self.hdf5_path = hdf5_path\n",
    "        with h5py.File(hdf5_path, 'r') as f:\n",
    "            self.length = len(f['image'])\n",
    "        self.transform = transforms.Compose([\n",
    "            transforms.Resize((64, 64)),\n",
    "            transforms.ToTensor(),\n",
    "        ])\n",
    "    \n",
    "    def __len__(self):\n",
    "        return self.length\n",
    "    \n",
    "    def __getitem__(self, idx):\n",
    "        with h5py.File(self.hdf5_path, 'r') as f:\n",
    "            img = torch.tensor(f['image'][idx], dtype=torch.float32)\n",
    "            photo = torch.tensor([\n",
    "                f['g_cmodel_mag'][idx], f['r_cmodel_mag'][idx], f['i_cmodel_mag'][idx],\n",
    "                f['z_cmodel_mag'][idx], f['y_cmodel_mag'][idx],\n",
    "                f['g_ellipticity'][idx], f['r_ellipticity'][idx], f['i_ellipticity'][idx],\n",
    "                f['z_ellipticity'][idx], f['y_ellipticity'][idx],\n",
    "                f['g_sersic_index'][idx], f['r_sersic_index'][idx], f['i_sersic_index'][idx],\n",
    "                f['z_sersic_index'][idx], f['y_sersic_index'][idx],\n",
    "            ], dtype=torch.float32)\n",
    "            redshift = torch.tensor(f['specz_redshift'][idx], dtype=torch.float32)\n",
    "        return photo, img, redshift\n",
    "\n",
    "# Training function with Early Stopping and Learning Rate Scheduler\n",
    "def train_model(model, dataloader, optimizer, criterion, num_epochs=10, patience=3, save_path='24_mar_model.pth'):\n",
    "    model.train()\n",
    "    best_loss = np.inf\n",
    "    early_stop_counter = 0\n",
    "    scheduler = optim.lr_scheduler.ReduceLROnPlateau(optimizer, mode='min', factor=0.5, patience=2)\n",
    "    \n",
    "    for epoch in range(num_epochs):\n",
    "        epoch_loss = 0.0\n",
    "        with tqdm(dataloader, unit=\"batch\") as tepoch:\n",
    "            for photo, img, labels in tepoch:\n",
    "                tepoch.set_description(f\"Epoch {epoch+1}\")\n",
    "                photo, img, labels = photo.to(device), img.to(device), labels.to(device)\n",
    "                optimizer.zero_grad()\n",
    "                outputs = model(photo, img)\n",
    "                loss = criterion(outputs, labels)\n",
    "                loss.backward()\n",
    "                optimizer.step()\n",
    "                epoch_loss += loss.item()\n",
    "                tepoch.set_postfix(loss=loss.item())\n",
    "        \n",
    "        avg_loss = epoch_loss / len(dataloader)\n",
    "        print(f\"Epoch {epoch+1} Loss: {avg_loss}\")\n",
    "        scheduler.step(avg_loss)\n",
    "        \n",
    "        if avg_loss < best_loss:\n",
    "            best_loss = avg_loss\n",
    "            early_stop_counter = 0\n",
    "            torch.save(model.state_dict(), save_path)\n",
    "            print(f\"Model saved at epoch {epoch+1} with loss {best_loss}\")\n",
    "        else:\n",
    "            early_stop_counter += 1\n",
    "            if early_stop_counter >= patience:\n",
    "                print(\"Early stopping triggered.\")\n",
    "                break\n",
    "\n",
    "# Instantiate model and optimizer\n",
    "model = HybridRedshiftModel(photometric_input=15).to(device)\n",
    "optimizer = optim.Adam(model.parameters(), lr=0.001)\n",
    "criterion = nn.HuberLoss()\n",
    "\n",
    "# Load Dataset and Dataloader\n",
    "dataset = HDF5Dataset(\"D:/Galaxy Datasets/temp_training.hdf5\")\n",
    "dataloader = data.DataLoader(dataset, batch_size=32, shuffle=True)\n",
    "\n",
    "# Train Model\n",
    "train_model(model, dataloader, optimizer, criterion, num_epochs=10, patience=3, save_path='24_mar_model.pth')\n",
    "\n",
    "# Load Best Model for Testing\n",
    "model.load_state_dict(torch.load('24_mar_model.pth'))\n",
    "model.eval()\n",
    "\n",
    "# Evaluate Model\n",
    "mse_loss = 0.0\n",
    "absolute_error = 0.0\n",
    "num_samples = len(dataset)\n",
    "with torch.no_grad():\n",
    "    for photo, img, label in dataloader:\n",
    "        photo, img, label = photo.to(device), img.to(device), label.to(device)\n",
    "        predictions = model(photo, img)\n",
    "        mse_loss += nn.MSELoss()(predictions, label).item()\n",
    "        absolute_error += torch.abs(predictions - label).sum().item()\n",
    "\n",
    "mse_loss /= num_samples\n",
    "mae_loss = absolute_error / num_samples\n",
    "print(f\"Mean Squared Error (MSE): {mse_loss}\")\n",
    "print(f\"Mean Absolute Error (MAE): {mae_loss}\")\n"
   ]
  },
  {
   "cell_type": "code",
   "execution_count": 4,
   "metadata": {},
   "outputs": [
    {
     "name": "stdout",
     "output_type": "stream",
     "text": [
      "Mean Squared Error (MSE): 0.007328542011662434\n",
      "Mean Absolute Error (MAE): 0.10066949397290989\n"
     ]
    }
   ],
   "source": [
    "model.load_state_dict(torch.load('24_mar_model.pth'))\n",
    "model.eval()\n",
    "\n",
    "# Evaluate Model\n",
    "mse_loss = 0.0\n",
    "absolute_error = 0.0\n",
    "num_samples = len(dataset)\n",
    "with torch.no_grad():\n",
    "    for photo, img, label in dataloader:\n",
    "        photo, img, label = photo.to(device), img.to(device), label.to(device)\n",
    "        predictions = model(photo, img)\n",
    "        mse_loss += nn.MSELoss()(predictions, label).item()\n",
    "        absolute_error += torch.abs(predictions - label).sum().item()\n",
    "\n",
    "mse_loss /= num_samples\n",
    "mae_loss = absolute_error / num_samples\n",
    "print(f\"Mean Squared Error (MSE): {mse_loss}\")\n",
    "print(f\"Mean Absolute Error (MAE): {mae_loss}\")"
   ]
  },
  {
   "cell_type": "code",
   "execution_count": 5,
   "metadata": {},
   "outputs": [
    {
     "name": "stderr",
     "output_type": "stream",
     "text": [
      "C:\\Users\\ASUS\\AppData\\Local\\Temp\\ipykernel_23980\\1974202011.py:86: UserWarning: Creating a tensor from a list of numpy.ndarrays is extremely slow. Please consider converting the list to a single numpy.ndarray with numpy.array() before converting to a tensor. (Triggered internally at C:\\actions-runner\\_work\\pytorch\\pytorch\\pytorch\\torch\\csrc\\utils\\tensor_new.cpp:257.)\n",
      "  photo = torch.tensor([\n"
     ]
    },
    {
     "name": "stdout",
     "output_type": "stream",
     "text": [
      "Percentage Accuracy: 83.08095812483602%\n"
     ]
    },
    {
     "name": "stderr",
     "output_type": "stream",
     "text": [
      "C:\\Users\\ASUS\\AppData\\Local\\Temp\\ipykernel_23980\\447588279.py:1: UserWarning: To copy construct from a tensor, it is recommended to use sourceTensor.clone().detach() or sourceTensor.clone().detach().requires_grad_(True), rather than torch.tensor(sourceTensor).\n",
      "  percentage_accuracy = 100 * (1 - mae_loss / torch.mean(torch.tensor(dataset[:][2])).item())\n"
     ]
    }
   ],
   "source": [
    "percentage_accuracy = 100 * (1 - mae_loss / torch.mean(torch.tensor(dataset[:][2])).item())\n",
    "print(f\"Percentage Accuracy: {percentage_accuracy}%\")"
   ]
  },
  {
   "cell_type": "code",
   "execution_count": 6,
   "metadata": {},
   "outputs": [
    {
     "name": "stdout",
     "output_type": "stream",
     "text": [
      "Original value: 0.16672000288963318      Predicted value: 0.21281550824642181\n",
      "Original value: 0.6856560111045837      Predicted value: 0.5945178270339966\n",
      "Original value: 0.1525000035762787      Predicted value: 0.49544042348861694\n",
      "Original value: 2.0625600814819336      Predicted value: 2.1511037349700928\n",
      "Original value: 0.8759999871253967      Predicted value: 1.2244274616241455\n"
     ]
    }
   ],
   "source": [
    "for i in range (0,5):\n",
    "    print(f\"Original value: {label[i]}      Predicted value: {predictions[i]}\")"
   ]
  }
 ],
 "metadata": {
  "kernelspec": {
   "display_name": "Python 3",
   "language": "python",
   "name": "python3"
  },
  "language_info": {
   "codemirror_mode": {
    "name": "ipython",
    "version": 3
   },
   "file_extension": ".py",
   "mimetype": "text/x-python",
   "name": "python",
   "nbconvert_exporter": "python",
   "pygments_lexer": "ipython3",
   "version": "3.12.4"
  }
 },
 "nbformat": 4,
 "nbformat_minor": 2
}
